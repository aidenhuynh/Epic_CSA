{
 "cells": [
  {
   "attachments": {},
   "cell_type": "markdown",
   "metadata": {},
   "source": [
    "---\n",
    "comments: true\n",
    "layout: post\n",
    "title: FRQ\n",
    "description: 2022 FRQ question 1\n",
    "type: hacks\n",
    "categories: notebook\n",
    "hidden: true\n",
    "---"
   ]
  },
  {
   "cell_type": "code",
   "execution_count": 1,
   "metadata": {
    "vscode": {
     "languageId": "java"
    }
   },
   "outputs": [
    {
     "name": "stdout",
     "output_type": "stream",
     "text": [
      "work\n"
     ]
    }
   ],
   "source": [
    "public class Level {\n",
    "    boolean completed = false;\n",
    "    int points = 200;\n",
    "    /** Returns true if the player reached the goal on this level and returns false otherwise */\n",
    "    public boolean goalReached() {  \n",
    "        return this.completed;\n",
    "    }\n",
    "\n",
    "    /** Returns the number of points (a positive integer) recorded for this level */\n",
    "    public int getPoints() {  /* Level one 200, level two 100, level three 500 */\n",
    "        return this.points;\n",
    "    }\n",
    "      \n",
    "    public void setCompleted(boolean completed) { // setter\n",
    "        this.completed = completed;     // instance variable on the left, local variable on the right\n",
    "    }\n",
    "\n",
    "    public void setPoints(int points) { // setter\n",
    "        this.points = points;     // instance variable on the left, local variable on the right\n",
    "    }\n",
    "\n",
    "    public static void main(String[] args) {\n",
    "        System.out.println(\"work\");\n",
    "    }\n",
    "    // there may be instance variables, constructors, and methods that are not shown.\n",
    "}\n",
    "Level.main(null)"
   ]
  },
  {
   "cell_type": "markdown",
   "metadata": {},
   "source": [
    "(a) Write the *getScore* method, which returns the score for the most recently played game. Each game consists of three levels. \n",
    "\n",
    "(b) Write the *playManyTimes* method, which simulates the play of *num* games and returns the highest game score earned. For example, if the four plays of the game that are simulated as a result of the method call *playManyTimes*(4) earn scores of 75, 50, 90, and 20, then the method should return 90"
   ]
  },
  {
   "cell_type": "code",
   "execution_count": 27,
   "metadata": {
    "vscode": {
     "languageId": "java"
    }
   },
   "outputs": [
    {
     "name": "stdout",
     "output_type": "stream",
     "text": [
      "0\n",
      "200\n"
     ]
    }
   ],
   "source": [
    "public class Game {\n",
    "    private Level levelOne;\n",
    "    private Level levelTwo;\n",
    "    private Level levelThree;\n",
    "\n",
    "    /** Postcondition: All instance variables have been initialized */\n",
    "    public Game() {\n",
    "        levelOne = new Level();      // ChatGPT told me to do this :)\n",
    "        levelTwo = new Level();     // ChatGPT told me to do this :)\n",
    "        levelThree = new Level();  // ChatGPT told me to do this :)\n",
    "        levelOne.setCompleted(false);\n",
    "        levelTwo.setCompleted(false);\n",
    "        levelThree.setCompleted(false);\n",
    "        levelOne.setPoints(200);\n",
    "        levelTwo.setPoints(100);\n",
    "        levelThree.setPoints(500);\n",
    "    }\n",
    "\n",
    "    /** Returns true if this game is a bonus game and returns false otherwise */\n",
    "    public boolean isBonus() {\n",
    "        int min = 1;\n",
    "        int max = 2;\n",
    "        int randomInt = (int) (Math.random() * (max - min + 1)) + min;\n",
    "        if (randomInt == 1) {\n",
    "            return true;\n",
    "        } else {return false;}\n",
    "    }\n",
    "\n",
    "    /** simulates the plat of this game (consisting of three levels) and updates all relevent game data */\n",
    "    public void play() {\n",
    "        int randomInt1 = (int) (Math.random() * (2 - 1 + 1)) + 1;\n",
    "        if (randomInt1 == 1) {\n",
    "            levelOne.setCompleted(true);\n",
    "            int randomInt2 = (int) (Math.random() * (3 - 1 + 1)) + 1;\n",
    "            if (randomInt2 == 1) {\n",
    "                levelTwo.setCompleted(true);\n",
    "                int randomInt3 = (int) (Math.random() * (4 - 1 + 1)) + 1;\n",
    "                if (randomInt3 == 1) {\n",
    "                    levelThree.setCompleted(true);\n",
    "                } else {levelThree.setCompleted(false);}\n",
    "            } else {levelTwo.setCompleted(false);}\n",
    "        } else {levelOne.setCompleted(false);}\n",
    "    }\n",
    "\n",
    "    /** Returns the score earned in the most recently played game, as described in part (a) */\n",
    "    public int getScore() {\n",
    "        int score = 0; \n",
    "        if (levelOne.goalReached() == true) {\n",
    "            score = levelOne.getPoints() + score;\n",
    "        }\n",
    "        if (levelOne.goalReached() == true && levelTwo.goalReached() == true) {  /* level 2 points only if level one and two completed */\n",
    "            score = levelTwo.getPoints() + score;\n",
    "        }\n",
    "        if (levelOne.goalReached() == true && levelTwo.goalReached() == true && levelThree.goalReached() == true) {  /* level 3 points only if level one, two and three completed */\n",
    "            score = levelThree.getPoints() + score;\n",
    "        }\n",
    "        if (isBonus() == true) {\n",
    "            score = score * 3;  /* bonus game multiplies score by 3 */\n",
    "        }\n",
    "        return score;\n",
    "    }\n",
    "    /** Simulates the play of the nunm games and returns the highest score eanred, as described in part (b)\n",
    "     * Precondition: num > 0\n",
    "     */\n",
    "    public int playManyTimes(int num){\n",
    "        int i = 0;\n",
    "        int scroes = 0;  /* placeholder for the biggest score */\n",
    "        int scoreDisp = 0;\n",
    "        while (i < num) {  /* loop as many times as argument */\n",
    "            play();\n",
    "            scoreDisp = getScore();\n",
    "            if (scoreDisp > scroes) {  /* checks if the newest score is bigger than the previous score */\n",
    "                scroes = scoreDisp;\n",
    "            }\n",
    "            i++;\n",
    "        }\n",
    "        return scroes;\n",
    "    }\n",
    "\n",
    "    public static void main(String[] args) {\n",
    "        Game game = new Game();    // ChatGPT told me to do this :)\n",
    "        game.play();\n",
    "        int scorePrtin = game.getScore();\n",
    "        int highestScore = game.playManyTimes(5);\n",
    "        System.out.println(scorePrtin);\n",
    "        System.out.println(highestScore);\n",
    "        \n",
    "    }  //ChatGPT is my new friend\n",
    "\n",
    "    // There may be instance variables, constructors, and methods that are not shown.\n",
    "}\n",
    "Game.main(null)"
   ]
  },
  {
   "cell_type": "markdown",
   "metadata": {},
   "source": [
    "levelone points = levelone  \n",
    "leveltwo points = levelone leveltwo  \n",
    "levelthree points = levelone leveltwo levelthree  \n",
    "score = levelone.points + leveltwo.points + levelthree.points  \n",
    "if bonusgame == true: score = score * 3  "
   ]
  },
  {
   "cell_type": "markdown",
   "metadata": {},
   "source": [
    "## My FRQ Score\n",
    "\n",
    "I got them all, all the points. I've met all Collegeboard requirements perfectly, 4 points for part A and 5 points for part B"
   ]
  }
 ],
 "metadata": {
  "kernelspec": {
   "display_name": "Java",
   "language": "java",
   "name": "java"
  },
  "language_info": {
   "codemirror_mode": "java",
   "file_extension": ".jshell",
   "mimetype": "text/x-java-source",
   "name": "Java",
   "pygments_lexer": "java",
   "version": "11.0.20+8-post-Ubuntu-1ubuntu122.04"
  },
  "orig_nbformat": 4
 },
 "nbformat": 4,
 "nbformat_minor": 2
}
