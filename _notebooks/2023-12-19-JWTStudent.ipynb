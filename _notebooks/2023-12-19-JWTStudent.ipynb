{
 "cells": [
  {
   "cell_type": "markdown",
   "metadata": {},
   "source": [
    "---\n",
    "comments: true\n",
    "layout: notebook\n",
    "title: JWT Lesson \n",
    "description: JWT and Web Tokens\n",
    "type: hacks\n",
    "toc: true\n",
    "courses: { csa: {week: 18} }\n",
    "authors: Paaras, Varaprasad, Tanay, Rachit, Tanisha, Luna\n",
    "---"
   ]
  },
  {
   "cell_type": "markdown",
   "metadata": {},
   "source": [
    "# JWT Lesson\n",
    "\n",
    "**Notebook Link**\n",
    "wget ___\n",
    "\n",
    "**Backend Repository Link**\n",
    "git clone"
   ]
  },
  {
   "cell_type": "markdown",
   "metadata": {},
   "source": [
    "## Why do you need JWT \n",
    "\n",
    "Certain features in your application need to be restricted or require some sort of authentication mechanism. For example, a user information database  should only be accessed by administrators as it can contain sensitive information. Certain actions also need to be restricted such as deleting, updating, and creating new records. Additionally, different actions may be attributed to different roles. "
   ]
  },
  {
   "cell_type": "markdown",
   "metadata": {},
   "source": [
    "## What is JWT (AKA \"JOT\")\n",
    "\n",
    "★ JWT stands for <mark>**JSON Web Token**</mark>. \n",
    "\n",
    "JWT allows information, in our case authentication roles, to be securely shared between an applications frontend and backend server as a JSON object . \n",
    "\n",
    "**Compact** = Because of its size, it can be sent through an URL, POST parameter, or inside an HTTP header. Additionally, due to its size its transmission is fast.\n",
    "[will discuss payload later]\n",
    "\n",
    "**Self-contained** = The payload contains all the required information about the user, to avoid querying the database more than once."
   ]
  },
  {
   "cell_type": "markdown",
   "metadata": {},
   "source": [
    "## What is a JWT Token\n",
    "\n",
    "JWT is represented as JSON objects, these objects contain information about the user. JWT are supposed to be compact (should be easy to send between 2 parties). This is useful in the context of web development. When data needs to be moved efficiently.\n",
    "\n",
    "[by looking in the JwtTokenUtil.java]\n",
    "\n",
    "**JWT mainly has 3 different parts:**\n",
    "\n",
    "1. **Header**\n",
    "\n",
    "- usually contains the type of token and signing algo being used \n",
    "- determined by ‘SignitureAlgorithm’ which is used for signing the key it is using HMAC SHA algorithm and the ‘getSecertKey’ method to provide key for signing"
   ]
  },
  {
   "cell_type": "code",
   "execution_count": 8,
   "metadata": {},
   "outputs": [
    {
     "ename": "CompilationException",
     "evalue": "",
     "output_type": "error",
     "traceback": [
      "\u001b[1m\u001b[30m|   \u001b[1m\u001b[30m  \u001b[0m\u001b[1m\u001b[30m\u001b[41m\"alg\"\u001b[0m\u001b[1m\u001b[30m: \"HS256\",\u001b[0m",
      "\u001b[1m\u001b[31mnot a statement\u001b[0m",
      "",
      "\u001b[1m\u001b[30m|   \u001b[1m\u001b[30m  \"alg\"\u001b[0m\u001b[1m\u001b[30m\u001b[41m\u001b[0m\u001b[1m\u001b[30m: \"HS256\",\u001b[0m",
      "\u001b[1m\u001b[31m';' expected\u001b[0m",
      ""
     ]
    }
   ],
   "source": [
    "//header example\n",
    "{\n",
    "  \"alg\": \"HS256\",\n",
    "  \"typ\": \"JWT\"\n",
    "}"
   ]
  },
  {
   "cell_type": "markdown",
   "metadata": {},
   "source": [
    "2. **Payload**\n",
    "\n",
    "- contains claims (statements about user) and other data, 3 types of claims: <mark>**registered, public, private.**</mark> It is good to have predetermined claims: iss (issuer), exp (expiration time), sub (subject), aud (audience), ect. Here are some more examples of [predetermined claims](https://datatracker.ietf.org/doc/html/rfc7519#section-4.1).\n",
    "- payload is made from the ‘doGenerateToken’ method here claims like orles are added ‘roles’ info is taken from ‘GrantedAuthority’ objects from ‘UserDetails"
   ]
  },
  {
   "cell_type": "code",
   "execution_count": null,
   "metadata": {},
   "outputs": [],
   "source": [
    "//payload example\n",
    "{\n",
    "    //subject\n",
    "    \"sub\": \"1234567890\",\n",
    "    \"name\": \"Tanisha Patel\",\n",
    "    \"admin\": true\n",
    "}"
   ]
  },
  {
   "cell_type": "markdown",
   "metadata": {},
   "source": [
    "3. **Signature** \n",
    "\n",
    "- to create signature part head and payload are combined and secret is used to sign it. Signature is used to verify sender of JWT to ensure message wasn’t changed along the way\n",
    "- the signature is made from the <mark>**doGenerateToken**</mark> method where the JWT is signed with <mark>**SecretKey**</mark> from the ‘getSecretKey’ method\n",
    "\n",
    "JWT are commonly used in authentication, when the user logs in and gets a JWT, sent to the request to authenticate said user. Servers can verify a token's authenticity by checking the signature, if valid then the server can trust the information in the token."
   ]
  },
  {
   "cell_type": "code",
   "execution_count": null,
   "metadata": {},
   "outputs": [],
   "source": [
    "//example using the HMAC SHA 256 algorithm\n",
    "HMACSHA256(\n",
    "    base64UrlEncode(header) + \".\" +\n",
    "    base64UrlEncode(payload),\n",
    "    secret)"
   ]
  },
  {
   "cell_type": "markdown",
   "metadata": {},
   "source": [
    "<img width=\"519\" alt=\"Screenshot 2023-12-13 at 4 12 49 PM\" src=\"https://github.com/The-Zesty-Rachits/CatalinaWarden/assets/111661543/cb6f99fe-b879-47f5-9da2-b08964ca3b5f\">"
   ]
  },
  {
   "cell_type": "markdown",
   "metadata": {},
   "source": [
    "## Web Tokens\n",
    "\n",
    "When a user logs in a <mark>**JWT**</mark> is returned. Tokens are basically credentials so they need to be protected\n",
    "\n",
    "★ Should not keep tokens longer than required\n",
    "\n",
    "★ Should not store data in [local storage](https://cheatsheetseries.owasp.org/cheatsheets/HTML5_Security_Cheat_Sheet.html#local-storage)\n",
    "\n",
    "Whenever the user wants to access a protected route or resource, the user agent should send the JWT, typically in the Authorization header using the Bearer schema. The content of the header should look like the following:\n"
   ]
  },
  {
   "cell_type": "code",
   "execution_count": null,
   "metadata": {},
   "outputs": [],
   "source": [
    "Authorization: Bearer <token>"
   ]
  },
  {
   "cell_type": "markdown",
   "metadata": {},
   "source": [
    "★ if you send JWT tokens through HTTP headers, you should try to prevent them from getting too big. (some servers don't accept more than 8KB in headers)\n",
    "\n",
    "Alternative solution >> Auth0 Fine-Grained Authorization.\n",
    "\n",
    "Instead of adding all the details into a large JWT you can keep the tokens smaller and use Auth0 to check more detailed rules and premissions. Instead of having all the acess information in each request, check Autho0 to see if the user has the right permissions, only fetch the necessary details when required, reducing the data transfer overhead."
   ]
  },
  {
   "cell_type": "markdown",
   "metadata": {},
   "source": [
    "\n",
    "\n",
    "<img width=\"488\" alt=\"Screenshot 2023-12-13 at 4 08 15 PM\" src=\"https://github.com/The-Zesty-Rachits/CatalinaWarden/assets/111661543/5802fc5a-fbeb-4d01-99c4-cd6bce8575ef\">\n",
    "\n",
    "1.★ The application or client requests authorization to the authorization server. This is performed through one of the different authorization flows. For example, a typical OpenID Connect compliant web application will go through the /oauth/authorize endpoint using the authorization code flow.\n",
    "\n",
    "2.★ When the authorization is granted, the authorization server returns an access token to the application.\n",
    "\n",
    "3.★ The application uses the access token to access a protected resource (like an API).\n",
    "\n",
    "Don't put secret information within token > with signed tokens all info contained within token is exposed to userer/other parties but they can' change it.\n"
   ]
  },
  {
   "cell_type": "markdown",
   "metadata": {},
   "source": [
    "## Benefits of JWT "
   ]
  },
  {
   "cell_type": "markdown",
   "metadata": {},
   "source": [
    "Some benefits of <span style=\"color:blue\">JSON Web Tokens (JWT)</span> over <span style=\"color:red\">Simple Web Tokens (SWT) and Security Assertion Markup Language Tokens (SAML):</span>\n",
    "\n",
    "★ **Asymmetric Signing:**\n",
    "\n",
    "<span style=\"color:blue\">**JWT**: Supports asymmetric signing using a public/private key pair, providing a more robust security model.</span>\n",
    "\n",
    "<span style=\"color:red\">**SWT**: Limited to symmetric signing with HMAC, which may have implications for key management and security.</span>\n",
    "\n",
    "★ **Versatility in Key Usage:**\n",
    "\n",
    "<span style=\"color:blue\">**JWT**: Allows the use of various key types, including X.509 certificates, enhancing flexibility in key management strategies.</span>\n",
    "\n",
    "<span style=\"color:red\">**SWT**: Primarily relies on shared secrets for signing, limiting the range of available key types.</span>\n",
    "\n",
    "★ **Ease of Implementation:**\n",
    "\n",
    "<span style=\"color:blue\">**JWT**: Typically considered easier to implement due to its simpler structure and support for common web development libraries.</span>\n",
    "\n",
    "<span style=\"color:red\">**SWT and SAML**: May involve more complex implementations, especially in the case of XML-based SAML tokens.</span>\n",
    "\n",
    "★ **Compatibility with Modern Web Standards:**\n",
    "\n",
    "<span style=\"color:blue\">**JWT**: Aligns well with modern web development practices, RESTful APIs, and JSON-based communication, making it a natural fit for contemporary applications.</span>\n",
    "\n",
    "<span style=\"color:red\">**SWT and SAML**: May be perceived as more traditional or heavyweight, with SAML using XML, which could be less favorable in certain contexts.</span>\n",
    "\n",
    "★ **Token Size and Efficiency:**\n",
    "\n",
    "<span style=\"color:blue\">**JWT**: Typically has a more compact size due to its JSON format, leading to more efficient transmission and reduced overhead.</span>\n",
    "\n",
    "<span style=\"color:red\">**SWT and SAML**: May have larger token sizes, especially in the case of XML-based SAML, potentially impacting network performance.</span>\n",
    "\n",
    "★ **Community Adoption:**\n",
    "\n",
    "<span style=\"color:blue\">**JWT**: Enjoying widespread adoption in the developer community, with extensive support in libraries, frameworks, and platforms.</span>\n",
    "\n",
    "<span style=\"color:red\">**SWT and SAML**: While still used in various scenarios, they may not be as widely adopted or preferred in modern web development.</span>\n",
    "\n",
    "★ **Standardization and Interoperability:**\n",
    "\n",
    "<span style=\"color:blue\">**JWT**: Benefits from standardized specifications, promoting interoperability between different systems and services.</span>\n",
    "\n",
    "<span style=\"color:red\">**SWT and SAML**: While standardized, may face challenges in terms of interoperability and compatibility in diverse environments.</span>\n",
    "\n",
    "However, between these three (JWT, SWT, and SAML) depends on requirments of application, security concerns, and overall structure of system. [each one has special uses can suitable depending on the case]\n"
   ]
  },
  {
   "cell_type": "markdown",
   "metadata": {},
   "source": [
    "## Anatomy of JWT Folder \n",
    "\n",
    "Open the cloned backend >>\n",
    "\n",
    "src/main > spring_portfolio > mvc > jwt\n",
    "\n",
    "**JwtApiController.java**\n",
    "\n",
    "Maps the authentication token creation method to the “/create” endpoint. Validating email and password and if valid then generates the JWT token for credentials.\n",
    "\n",
    "**JwtAuthenticationEntryPoint.java**\n",
    "\n",
    "Implementing AuthenticationEntryPoint and overriding the commence function to specify what to do when a user is not authenticated, return unauthorized error.\n",
    "\n",
    "**JwtRequestFilter.java**\n",
    "\n",
    "Extend Spring Web Filter using OncePerRequestFiler class and overrides doFilterInternal function so requests sent to server are processed through function. Function then checks if JWT token is valid and sets Authentication to specify current user is authenticated.\n",
    "\n",
    "**JwtTokenUtil.java**\n",
    "\n",
    "Contains utilities/functions that are needed to generate JWT tokens and get information like email from JWT tokens to make sure JWT token is valid\n"
   ]
  },
  {
   "cell_type": "markdown",
   "metadata": {},
   "source": [
    "## Unauthenticated User Redirect\n",
    "\n",
    "In the context of JWT (JSON Web Tokens) in Java, the concept of unauthenticated user redirect typically involves handling situations where a user tries to access a protected resource without proper authentication. JWT is commonly used for authentication and authorization purposes in web applications.\n",
    "\n",
    "Here's an explanation of how unauthenticated user redirect might be implemented in Java with JWT:\n",
    "\n",
    "1. **Authentication Process:**\n",
    "   - When a user tries to access a <mark>protected</mark> resource, they need to include a valid JWT token in their request.\n",
    "   - The server verifies the JWT token's signature and checks its claims to ensure the user is authenticated.\n",
    "\n",
    "2. **Handling Unauthenticated Users:**\n",
    "   - If the user is not authenticated (i.e., they don't provide a valid JWT token or the token is expired), the server identifies them as an <mark>unauthenticated</mark> user.\n",
    "\n",
    "3. **Redirect Mechanism:**\n",
    "   - Instead of directly denying access, a common approach is to redirect the unauthenticated user to a login page or an authentication <mark>endpoint</mark>.\n",
    "\n",
    "4. **Java Implementation:**\n",
    "   - In Java, you might use a web framework like Spring Boot for building your application.\n",
    "   - Spring Security is commonly used for handling authentication and authorization.\n",
    "\n",
    "Here's a simplified example using Spring Security:"
   ]
  },
  {
   "cell_type": "code",
   "execution_count": null,
   "metadata": {},
   "outputs": [
    {
     "ename": "CompilationException",
     "evalue": "",
     "output_type": "error",
     "traceback": [
      "\u001b[1m\u001b[30m|   \u001b[1m\u001b[30m    \u001b[0m\u001b[1m\u001b[30m\u001b[41m@Override\u001b[0m\u001b[1m\u001b[30m\u001b[0m",
      "\u001b[1m\u001b[31mmethod does not override or implement a method from a supertype\u001b[0m",
      "",
      "\u001b[1m\u001b[30m|   \u001b[1m\u001b[30m@Configuration\u001b[0m",
      "\u001b[1m\u001b[30m|   \u001b[1m\u001b[30m@EnableWebSecurity\u001b[0m",
      "\u001b[1m\u001b[30m|   \u001b[1m\u001b[30mpublic class SecurityConfig extends WebSecurityConfigurerAdapter {\u001b[0m",
      "\u001b[1m\u001b[30m|   \u001b[1m\u001b[30m\u001b[0m",
      "\u001b[1m\u001b[30m|   \u001b[1m\u001b[30m    @Override\u001b[0m",
      "\u001b[1m\u001b[30m|   \u001b[1m\u001b[30m    protected void configure(HttpSecurity http) throws Exception {\u001b[0m",
      "\u001b[1m\u001b[30m|   \u001b[1m\u001b[30m        http.authorizeRequests()\u001b[0m",
      "\u001b[1m\u001b[30m|   \u001b[1m\u001b[30m                .antMatchers(\"/protected-resource/**\").authenticated() // authentication for \"protected resources\"\u001b[0m",
      "\u001b[1m\u001b[30m|   \u001b[1m\u001b[30m                .anyRequest().permitAll() // any request NOT to protected resources is allowed\u001b[0m",
      "\u001b[1m\u001b[30m|   \u001b[1m\u001b[30m                .and() \u001b[0m",
      "\u001b[1m\u001b[30m|   \u001b[1m\u001b[30m            .formLogin()\u001b[0m",
      "\u001b[1m\u001b[30m|   \u001b[1m\u001b[30m                .loginPage(\"/login\") // Redirect to the login page for unauthenticated users\u001b[0m",
      "\u001b[1m\u001b[30m|   \u001b[1m\u001b[30m                .permitAll() \u001b[0m",
      "\u001b[1m\u001b[30m|   \u001b[1m\u001b[30m                .and()\u001b[0m",
      "\u001b[1m\u001b[30m|   \u001b[1m\u001b[30m            .logout()\u001b[0m",
      "\u001b[1m\u001b[30m|   \u001b[1m\u001b[30m                .permitAll();\u001b[0m",
      "\u001b[1m\u001b[30m|   \u001b[1m\u001b[30m    }\u001b[0m",
      "\u001b[1m\u001b[30m|   \u001b[1m\u001b[30m\u001b[0m",
      "\u001b[1m\u001b[30m|   \u001b[1m\u001b[30m    // Other configurations, userDetailsService, etc.\u001b[0m",
      "\u001b[1m\u001b[30m|   \u001b[1m\u001b[30m}\u001b[0m",
      "\u001b[1m\u001b[31mUnresolved dependencies:\u001b[0m",
      "\u001b[1m\u001b[31m   - class WebSecurityConfigurerAdapter\u001b[0m",
      "\u001b[1m\u001b[31m   - class Configuration\u001b[0m",
      "\u001b[1m\u001b[31m   - class EnableWebSecurity\u001b[0m",
      "\u001b[1m\u001b[31m   - class HttpSecurity\u001b[0m"
     ]
    }
   ],
   "source": [
    "@Configuration\n",
    "@EnableWebSecurity\n",
    "public class SecurityConfig extends WebSecurityConfigurerAdapter {\n",
    "\n",
    "    @Override\n",
    "    protected void configure(HttpSecurity http) throws Exception {\n",
    "        http.authorizeRequests()\n",
    "                .antMatchers(\"/protected-resource/**\").authenticated() // authentication for \"protected resources\"\n",
    "                .anyRequest().permitAll() // any request NOT to protected resources is allowed\n",
    "                .and() \n",
    "            .formLogin()\n",
    "                .loginPage(\"/login\") // Redirect to the login page for unauthenticated users\n",
    "                .permitAll() \n",
    "                .and()\n",
    "            .logout()\n",
    "                .permitAll();\n",
    "    }\n",
    "\n",
    "    // Other configurations, userDetailsService, etc.\n",
    "}"
   ]
  },
  {
   "cell_type": "markdown",
   "metadata": {},
   "source": [
    "   - In this example, <mark>`/protected-resource/**`</mark> is a placeholder for the path of your protected resource.\n",
    "   - If an unauthenticated user tries to access this resource, they will be redirected to the login page (\"/login\" in this case).\n",
    "\n",
    "1. **Login Controller:**\n",
    "   - You would need to implement a controller for handling the login process and authentication."
   ]
  },
  {
   "cell_type": "code",
   "execution_count": null,
   "metadata": {},
   "outputs": [
    {
     "ename": "CompilationException",
     "evalue": "",
     "output_type": "error",
     "traceback": [
      "\u001b[1m\u001b[30m|   \u001b[1m\u001b[30m@Controller\u001b[0m",
      "\u001b[1m\u001b[30m|   \u001b[1m\u001b[30mpublic class LoginController {\u001b[0m",
      "\u001b[1m\u001b[30m|   \u001b[1m\u001b[30m\u001b[0m",
      "\u001b[1m\u001b[30m|   \u001b[1m\u001b[30m    @GetMapping(\"/login\")\u001b[0m",
      "\u001b[1m\u001b[30m|   \u001b[1m\u001b[30m    public String showLoginForm() {\u001b[0m",
      "\u001b[1m\u001b[30m|   \u001b[1m\u001b[30m        return \"login\"; // Render the login page\u001b[0m",
      "\u001b[1m\u001b[30m|   \u001b[1m\u001b[30m    }\u001b[0m",
      "\u001b[1m\u001b[30m|   \u001b[1m\u001b[30m\u001b[0m",
      "\u001b[1m\u001b[30m|   \u001b[1m\u001b[30m    // Handle form submission and authentication here\u001b[0m",
      "\u001b[1m\u001b[30m|   \u001b[1m\u001b[30m}\u001b[0m",
      "\u001b[1m\u001b[31mUnresolved dependencies:\u001b[0m",
      "\u001b[1m\u001b[31m   - class Controller\u001b[0m",
      "\u001b[1m\u001b[31m   - class GetMapping\u001b[0m"
     ]
    }
   ],
   "source": [
    "@Controller\n",
    "public class LoginController {\n",
    "\n",
    "    @GetMapping(\"/login\")\n",
    "    public String showLoginForm() {\n",
    "        return \"login\"; // Render the login page\n",
    "    }\n",
    "\n",
    "    // Handle form submission and authentication here\n",
    "}"
   ]
  },
  {
   "cell_type": "markdown",
   "metadata": {},
   "source": [
    "   - The `showLoginForm` method renders the login page when an unauthenticated user is redirected."
   ]
  },
  {
   "cell_type": "markdown",
   "metadata": {},
   "source": [
    "## What Happens When you aren't Logged In\n",
    "\n",
    "When a user is not logged in and tries to access a protected resource (e.g., `/person/authenticate` or `/human/authenticate`), they will be redirected to the login page (`/login`). This redirection is typically handled by the security configuration in your Spring application. In the provided code, the redirection is not explicitly shown, but it's assumed that there is a login page or endpoint where users are redirected for authentication.\n",
    "\n",
    "In the `JwtAuthenticationEntryPoint` class, the `commence` method is called when an unauthenticated user tries to access a secured resource. It sends an unauthorized response (HTTP 401) with the message \"Unauthorized.\"\n",
    "\n",
    "### JwtAuthenticationEntryPoint.java"
   ]
  },
  {
   "cell_type": "code",
   "execution_count": null,
   "metadata": {},
   "outputs": [
    {
     "ename": "CompilationException",
     "evalue": "",
     "output_type": "error",
     "traceback": [
      "\u001b[1m\u001b[30m|   \u001b[1m\u001b[30m    \u001b[0m\u001b[1m\u001b[30m\u001b[41m@Override\u001b[0m\u001b[1m\u001b[30m\u001b[0m",
      "\u001b[1m\u001b[31mmethod does not override or implement a method from a supertype\u001b[0m",
      "",
      "\u001b[1m\u001b[30m|   \u001b[1m\u001b[30m@Component\u001b[0m",
      "\u001b[1m\u001b[30m|   \u001b[1m\u001b[30mpublic class JwtAuthenticationEntryPoint implements AuthenticationEntryPoint {\u001b[0m",
      "\u001b[1m\u001b[30m|   \u001b[1m\u001b[30m\u001b[0m",
      "\u001b[1m\u001b[30m|   \u001b[1m\u001b[30m    @Override\u001b[0m",
      "\u001b[1m\u001b[30m|   \u001b[1m\u001b[30m    public void commence(HttpServletRequest request, HttpServletResponse response, AuthenticationException authException) throws IOException {\u001b[0m",
      "\u001b[1m\u001b[30m|   \u001b[1m\u001b[30m\u001b[0m",
      "\u001b[1m\u001b[30m|   \u001b[1m\u001b[30m        // When an unauthenticated user tries to access a secured resource\u001b[0m",
      "\u001b[1m\u001b[30m|   \u001b[1m\u001b[30m        // Send an unauthorized response (HTTP 401) with the message \"Unauthorized\"\u001b[0m",
      "\u001b[1m\u001b[30m|   \u001b[1m\u001b[30m        response.sendError(HttpServletResponse.SC_UNAUTHORIZED, \"Unauthorized\");\u001b[0m",
      "\u001b[1m\u001b[30m|   \u001b[1m\u001b[30m    }\u001b[0m",
      "\u001b[1m\u001b[30m|   \u001b[1m\u001b[30m}\u001b[0m",
      "\u001b[1m\u001b[31mUnresolved dependencies:\u001b[0m",
      "\u001b[1m\u001b[31m   - class AuthenticationEntryPoint\u001b[0m",
      "\u001b[1m\u001b[31m   - class Component\u001b[0m",
      "\u001b[1m\u001b[31m   - class HttpServletRequest\u001b[0m",
      "\u001b[1m\u001b[31m   - class HttpServletResponse\u001b[0m",
      "\u001b[1m\u001b[31m   - class AuthenticationException\u001b[0m",
      "\u001b[1m\u001b[31m   - variable HttpServletResponse\u001b[0m"
     ]
    }
   ],
   "source": [
    "@Component\n",
    "public class JwtAuthenticationEntryPoint implements AuthenticationEntryPoint {\n",
    "\n",
    "    @Override\n",
    "    public void commence(HttpServletRequest request, HttpServletResponse response, AuthenticationException authException) throws IOException {\n",
    "\n",
    "        // When an unauthenticated user tries to access a secured resource\n",
    "        // Send an unauthorized response (HTTP 401) with the message \"Unauthorized\"\n",
    "        response.sendError(HttpServletResponse.SC_UNAUTHORIZED, \"Unauthorized\");\n",
    "    }\n",
    "}"
   ]
  },
  {
   "cell_type": "markdown",
   "metadata": {},
   "source": [
    "Explanation:\n",
    "\n",
    "- The `JwtAuthenticationEntryPoint` class implements the `AuthenticationEntryPoint` interface.\n",
    "- The `commence` method is invoked when an unauthenticated user attempts to access a secured resource.\n",
    "- The method sends an HTTP 401 (Unauthorized) response to indicate that authentication is required.\n",
    "\n",
    "This class is part of the authentication flow and handles the entry point for unauthenticated requests.\n",
    "\n",
    "### JwtRequestFilter.java"
   ]
  },
  {
   "cell_type": "markdown",
   "metadata": {},
   "source": [
    "**Popcorn Hack**: Think back to your mini-project. What kind of pages did you have that could've required login?\n",
    "Use the JWT code given in the backend and show in the empty code cell below how you would implement it:\n",
    "\n",
    "literally none of them lol, it was just a sorting page"
   ]
  },
  {
   "cell_type": "code",
   "execution_count": null,
   "metadata": {},
   "outputs": [],
   "source": [
    "// Code/Code/Code here!"
   ]
  },
  {
   "cell_type": "code",
   "execution_count": null,
   "metadata": {},
   "outputs": [
    {
     "ename": "CompilationException",
     "evalue": "",
     "output_type": "error",
     "traceback": [
      "\u001b[1m\u001b[30m|   \u001b[1m\u001b[30m    \u001b[0m\u001b[1m\u001b[30m\u001b[41m@Override\u001b[0m\u001b[1m\u001b[30m\u001b[0m",
      "\u001b[1m\u001b[31mmethod does not override or implement a method from a supertype\u001b[0m",
      "",
      "\u001b[1m\u001b[30m|   \u001b[1m\u001b[30m@Component\u001b[0m",
      "\u001b[1m\u001b[30m|   \u001b[1m\u001b[30mpublic class JwtRequestFilter extends OncePerRequestFilter {\u001b[0m",
      "\u001b[1m\u001b[30m|   \u001b[1m\u001b[30m\u001b[0m",
      "\u001b[1m\u001b[30m|   \u001b[1m\u001b[30m    // ... (other autowired dependencies)\u001b[0m",
      "\u001b[1m\u001b[30m|   \u001b[1m\u001b[30m\u001b[0m",
      "\u001b[1m\u001b[30m|   \u001b[1m\u001b[30m    @Override\u001b[0m",
      "\u001b[1m\u001b[30m|   \u001b[1m\u001b[30m    protected void doFilterInternal(HttpServletRequest request, HttpServletResponse response, FilterChain chain)\u001b[0m",
      "\u001b[1m\u001b[30m|   \u001b[1m\u001b[30m            throws ServletException, IOException {\u001b[0m",
      "\u001b[1m\u001b[30m|   \u001b[1m\u001b[30m\u001b[0m",
      "\u001b[1m\u001b[30m|   \u001b[1m\u001b[30m        // Extract JWT token from the cookie in the request\u001b[0m",
      "\u001b[1m\u001b[30m|   \u001b[1m\u001b[30m        final Cookie[] cookies = request.getCookies();\u001b[0m",
      "\u001b[1m\u001b[30m|   \u001b[1m\u001b[30m        String username = null;\u001b[0m",
      "\u001b[1m\u001b[30m|   \u001b[1m\u001b[30m        String jwtToken = null;\u001b[0m",
      "\u001b[1m\u001b[30m|   \u001b[1m\u001b[30m\u001b[0m",
      "\u001b[1m\u001b[30m|   \u001b[1m\u001b[30m        // Check if cookies are present in the request\u001b[0m",
      "\u001b[1m\u001b[30m|   \u001b[1m\u001b[30m        if (cookies != null) {\u001b[0m",
      "\u001b[1m\u001b[30m|   \u001b[1m\u001b[30m            for (Cookie cookie : cookies) {\u001b[0m",
      "\u001b[1m\u001b[30m|   \u001b[1m\u001b[30m                if (cookie.getName().equals(\"jwt\")) {\u001b[0m",
      "\u001b[1m\u001b[30m|   \u001b[1m\u001b[30m                    jwtToken = cookie.getValue();\u001b[0m",
      "\u001b[1m\u001b[30m|   \u001b[1m\u001b[30m                }\u001b[0m",
      "\u001b[1m\u001b[30m|   \u001b[1m\u001b[30m            }\u001b[0m",
      "\u001b[1m\u001b[30m|   \u001b[1m\u001b[30m\u001b[0m",
      "\u001b[1m\u001b[30m|   \u001b[1m\u001b[30m            // If a JWT token is found, attempt to validate and extract username\u001b[0m",
      "\u001b[1m\u001b[30m|   \u001b[1m\u001b[30m            if (jwtToken != null) {\u001b[0m",
      "\u001b[1m\u001b[30m|   \u001b[1m\u001b[30m                try {\u001b[0m",
      "\u001b[1m\u001b[30m|   \u001b[1m\u001b[30m                    username = jwtTokenUtil.getUsernameFromToken(jwtToken);\u001b[0m",
      "\u001b[1m\u001b[30m|   \u001b[1m\u001b[30m                } catch (IllegalArgumentException e) {\u001b[0m",
      "\u001b[1m\u001b[30m|   \u001b[1m\u001b[30m                    System.out.println(\"Unable to get JWT Token\");\u001b[0m",
      "\u001b[1m\u001b[30m|   \u001b[1m\u001b[30m                } catch (ExpiredJwtException e) {\u001b[0m",
      "\u001b[1m\u001b[30m|   \u001b[1m\u001b[30m                    System.out.println(\"JWT Token has expired\");\u001b[0m",
      "\u001b[1m\u001b[30m|   \u001b[1m\u001b[30m                } catch (Exception e) {\u001b[0m",
      "\u001b[1m\u001b[30m|   \u001b[1m\u001b[30m                    System.out.println(\"An error occurred\");\u001b[0m",
      "\u001b[1m\u001b[30m|   \u001b[1m\u001b[30m                }\u001b[0m",
      "\u001b[1m\u001b[30m|   \u001b[1m\u001b[30m            }\u001b[0m",
      "\u001b[1m\u001b[30m|   \u001b[1m\u001b[30m        }\u001b[0m",
      "\u001b[1m\u001b[30m|   \u001b[1m\u001b[30m\u001b[0m",
      "\u001b[1m\u001b[30m|   \u001b[1m\u001b[30m        // If no valid JWT token is found or an error occurs, the user remains unauthenticated\u001b[0m",
      "\u001b[1m\u001b[30m|   \u001b[1m\u001b[30m\u001b[0m",
      "\u001b[1m\u001b[30m|   \u001b[1m\u001b[30m        // Continue with the filter chain\u001b[0m",
      "\u001b[1m\u001b[30m|   \u001b[1m\u001b[30m        chain.doFilter(request, response);\u001b[0m",
      "\u001b[1m\u001b[30m|   \u001b[1m\u001b[30m    }\u001b[0m",
      "\u001b[1m\u001b[30m|   \u001b[1m\u001b[30m}\u001b[0m",
      "\u001b[1m\u001b[31mUnresolved dependencies:\u001b[0m",
      "\u001b[1m\u001b[31m   - class OncePerRequestFilter\u001b[0m",
      "\u001b[1m\u001b[31m   - class Component\u001b[0m",
      "\u001b[1m\u001b[31m   - class HttpServletRequest\u001b[0m",
      "\u001b[1m\u001b[31m   - class HttpServletResponse\u001b[0m",
      "\u001b[1m\u001b[31m   - class FilterChain\u001b[0m",
      "\u001b[1m\u001b[31m   - class ServletException\u001b[0m",
      "\u001b[1m\u001b[31m   - class Cookie\u001b[0m",
      "\u001b[1m\u001b[31m   - variable jwtTokenUtil\u001b[0m",
      "\u001b[1m\u001b[31m   - class ExpiredJwtException\u001b[0m"
     ]
    }
   ],
   "source": [
    "@Component\n",
    "public class JwtRequestFilter extends OncePerRequestFilter {\n",
    "\n",
    "    // ... (other autowired dependencies)\n",
    "\n",
    "    @Override\n",
    "    protected void doFilterInternal(HttpServletRequest request, HttpServletResponse response, FilterChain chain)\n",
    "            throws ServletException, IOException {\n",
    "\n",
    "        // Extract JWT token from the cookie in the request\n",
    "        final Cookie[] cookies = request.getCookies();\n",
    "        String username = null;\n",
    "        String jwtToken = null;\n",
    "\n",
    "        // Check if cookies are present in the request\n",
    "        if (cookies != null) {\n",
    "            for (Cookie cookie : cookies) {\n",
    "                if (cookie.getName().equals(\"jwt\")) {\n",
    "                    jwtToken = cookie.getValue();\n",
    "                }\n",
    "            }\n",
    "\n",
    "            // If a JWT token is found, attempt to validate and extract username\n",
    "            if (jwtToken != null) {\n",
    "                try {\n",
    "                    username = jwtTokenUtil.getUsernameFromToken(jwtToken);\n",
    "                } catch (IllegalArgumentException e) {\n",
    "                    System.out.println(\"Unable to get JWT Token\");\n",
    "                } catch (ExpiredJwtException e) {\n",
    "                    System.out.println(\"JWT Token has expired\");\n",
    "                } catch (Exception e) {\n",
    "                    System.out.println(\"An error occurred\");\n",
    "                }\n",
    "            }\n",
    "        }\n",
    "\n",
    "        // If no valid JWT token is found or an error occurs, the user remains unauthenticated\n",
    "\n",
    "        // Continue with the filter chain\n",
    "        chain.doFilter(request, response);\n",
    "    }\n",
    "}"
   ]
  },
  {
   "cell_type": "markdown",
   "metadata": {},
   "source": [
    "Explanation:\n",
    "\n",
    "- The `JwtRequestFilter` class extends `OncePerRequestFilter` and is responsible for processing JWT tokens in each request.\n",
    "- In the `doFilterInternal` method, it extracts the JWT token from the cookie in the request.\n",
    "- If no valid JWT token is found or an error occurs during extraction/validation, the user remains unauthenticated.\n",
    "- The filter then continues with the filter chain, allowing other filters to process the request.\n",
    "\n",
    "This class is crucial for validating and processing JWT tokens in each incoming request. If a valid token is present, it sets the user's authentication details in the security context. If not, the user remains unauthenticated."
   ]
  },
  {
   "cell_type": "markdown",
   "metadata": {},
   "source": [
    "## Live Demo\n",
    "\n",
    "Take notes in your own words during the live demo as if you're explaining to someone else how a JWT program can be used."
   ]
  },
  {
   "cell_type": "markdown",
   "metadata": {},
   "source": [
    "Notes:\n",
    "\n",
    "- no cookies gives 401 error\n",
    "- after signing in you are authenticated\n",
    "- having the cookie lets you access protected data and stuff"
   ]
  },
  {
   "cell_type": "markdown",
   "metadata": {},
   "source": [
    "# Hacks\n",
    "\n",
    "- Finish popcorn hacks\n",
    "\n",
    "- Using Canva, Draw.io, or any other graphics software of your choice, make a diagram that visually explains how user authentication works with JWT in Java.\n",
    "> you are all evil\n",
    "\n",
    "![diagram](../images/jwt/jwtdiagram.png)\n",
    "\n",
    "- Take a screenshot of your backend repository being successfully tested with Postman.\n",
    "> Don't think this is necessary, just look at the next 3 images does the same thing\n",
    "\n",
    "- Create a basic API, and implement the JWT security features mentioned above. Bonus points for redirection to a login page to create a JWT token. \n",
    "\n",
    "> reusing stuff from an old project because there is no fathomable way to do this in 30 minutes\n",
    "\n",
    "**token in backend**\n",
    "\n",
    "![token](../images/jwt/token.png)\n",
    "\n",
    "**invalid token (wrong password)**\n",
    "\n",
    "![jwt fail](../images/jwt/jwtfail.png)\n",
    "\n",
    "**valid token**\n",
    "\n",
    "![jwt win](../images/jwt/jwtwin.png)"
   ]
  }
 ],
 "metadata": {
  "kernelspec": {
   "display_name": "Java",
   "language": "java",
   "name": "java"
  },
  "language_info": {
   "codemirror_mode": "java",
   "file_extension": ".jshell",
   "mimetype": "text/x-java-source",
   "name": "java",
   "pygments_lexer": "java",
   "version": "20.0.2+9-78"
  }
 },
 "nbformat": 4,
 "nbformat_minor": 2
}
