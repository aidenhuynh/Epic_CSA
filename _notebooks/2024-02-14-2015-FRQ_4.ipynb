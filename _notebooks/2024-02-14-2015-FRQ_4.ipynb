{
 "cells": [
  {
   "cell_type": "markdown",
   "metadata": {},
   "source": [
    "---\n",
    "title: 2015 FRQ 4\n",
    "description: Part of final grade for T2 AP CSA\n",
    "toc: true\n",
    "layout: post\n",
    "courses: { csa: {week: '22'} }\n",
    "type: hacks\n",
    "comments: true\n",
    "---"
   ]
  },
  {
   "cell_type": "markdown",
   "metadata": {},
   "source": [
    "## Question 4\n",
    "\n",
    "Directions: SHOW ALL YOUR WORK. REMEMBER THAT PROGRAM SEGMENTS ARE TO BE WRITTEN IN JAVA.\n",
    "\n",
    "Notes:\n",
    " \n",
    "* Assume that the classes listed in the Java Quick Reference have been imported where appropriate.\n",
    "* Unless otherwise noted in the question, assume that parameters in method calls are not null and that methods are called only when their preconditions are satisfied.\n",
    "* In writing solutions for each question, you may use any of the accessible methods that are listed in classes defined in that question. Writing significant amounts of code that can be replaced by a call to one of these methods will not receive full credit.\n",
    "\n",
    "This question involves the design of an interface, writing a class that implements the interface, and writing a method that uses the interface.\n",
    "\n",
    "### (a) \n",
    "A number group represents a group of integers defined in some way. It could be empty, or it could contain one or more integers.\n",
    "\n",
    "Write an interface named NumberGroup that represents a group of integers. The interface should have a single contains method that determines if a given integer is in the group. For example, if group1 is of type NumberGroup, and it contains only the two numbers -5 and 3, then group1.contains(-5) would return true, and group1.contains(2) would return false.\n",
    "Write the complete NumberGroup interface. It must have exactly one method."
   ]
  },
  {
   "cell_type": "code",
   "execution_count": 103,
   "metadata": {
    "vscode": {
     "languageId": "java"
    }
   },
   "outputs": [],
   "source": [
    "public interface NumberGroup {\n",
    "    boolean contains(int number);\n",
    "}"
   ]
  },
  {
   "cell_type": "markdown",
   "metadata": {},
   "source": [
    "### (b)\n",
    "\n",
    "A range represents a number group that contains all (and only) the integers between a minimum value and a maximum value, inclusive.\n",
    "\n",
    "Write the Range class, which is a NumberGroup. The Range class represents the group of int values that range from a given minimum value up through a given maximum value, inclusive. For example,the declaration\n",
    "\n",
    "NumberGroup range1 = new Range(-3, 2);\n",
    "\n",
    "represents the group of integer values -3, -2, -1, 0, 1, 2.\n",
    "\n",
    "Write the complete Range class. Include all necessary instance variables and methods as well as a constructor that takes two int parameters. The first parameter represents the minimum value, and the second parameter represents the maximum value of the range. You may assume that the minimum is less than or equal to the maximum."
   ]
  },
  {
   "cell_type": "code",
   "execution_count": 106,
   "metadata": {
    "vscode": {
     "languageId": "java"
    }
   },
   "outputs": [],
   "source": [
    "public class Range implements NumberGroup {\n",
    "    private int minimum;\n",
    "    private int maximum;\n",
    "\n",
    "    public Range(int min, int max)\n",
    "    {\n",
    "        minimum = min;\n",
    "        maximum = max;\n",
    "    }\n",
    "\n",
    "    @Override\n",
    "    public boolean contains(int number) {\n",
    "        if (minimum <= number && number <= maximum) {\n",
    "            return true;\n",
    "        }\n",
    "        \n",
    "        else {\n",
    "            return false;\n",
    "        }\n",
    "    }\n",
    "}"
   ]
  },
  {
   "cell_type": "markdown",
   "metadata": {},
   "source": [
    "### (c)\n",
    "\n",
    "The MultipleGroups class (not shown) represents a collection of NumberGroup objects and isa NumberGroup. The MultipleGroups class stores the number groups in the instance variable groupList (shown below), which is initialized in the constructor.\n",
    "\n",
    "private List<NumberGroup> groupList;\n",
    "\n",
    "Write the MultipleGroups method contains. The method takes an integer and returns true if and only if the integer is contained in one or more of the number groups in groupList.\n",
    "\n",
    "For example, suppose multiple1 has been declared as an instance of MultipleGroups and consists of the three ranges created by the calls new Range(5, 8), new Range(10, 12), and new Range(1, 6). The following table shows the results of several calls to contains.\n",
    " \n",
    "![a](https://assets.learnosity.com/organisations/537/media.academicmerit.com/2a8a614e094e04653841bb5015927db2/original.png)\n",
    "\n",
    "![a](https://assets.learnosity.com/organisations/537/media.academicmerit.com/5ce935527f6be1e707a779f1b5165b35/original.png)"
   ]
  },
  {
   "cell_type": "code",
   "execution_count": 113,
   "metadata": {
    "vscode": {
     "languageId": "java"
    }
   },
   "outputs": [
    {
     "name": "stdout",
     "output_type": "stream",
     "text": [
      "true\n",
      "false\n",
      "true\n"
     ]
    }
   ],
   "source": [
    "public class Range implements NumberGroup {\n",
    "    private int minimum;\n",
    "    private int maximum;\n",
    "\n",
    "    public Range(int min, int max)\n",
    "    {\n",
    "        minimum = min;\n",
    "        maximum = max;\n",
    "    }\n",
    "\n",
    "    @Override\n",
    "    public boolean contains(int number) {\n",
    "        if (minimum <= number && number <= maximum) {\n",
    "            return true;\n",
    "        }\n",
    "        \n",
    "        else {\n",
    "            return false;\n",
    "        }\n",
    "    }\n",
    "}\n",
    "\n",
    "public class MultipleGroups implements NumberGroup {\n",
    "    private List<NumberGroup> groupList;\n",
    "\n",
    "    public MultipleGroups()\n",
    "    {\n",
    "        groupList = new ArrayList<NumberGroup>();\n",
    "    }\n",
    "\n",
    "    public void addNumberGroup(NumberGroup group)\n",
    "    {\n",
    "        groupList.add(group);\n",
    "    }\n",
    "\n",
    "    @Override\n",
    "    public boolean contains(int number)\n",
    "    {\n",
    "        for (int i = 0; i < groupList.size(); i ++)\n",
    "        {\n",
    "            if (groupList.get(i).contains(number))\n",
    "            {\n",
    "                return true;\n",
    "            }\n",
    "        }\n",
    "        return false;\n",
    "    }\n",
    "}\n",
    "\n",
    "MultipleGroups multiple1 = new MultipleGroups();\n",
    "multiple1.addNumberGroup(new Range(5, 8));\n",
    "multiple1.addNumberGroup(new Range(10, 12));\n",
    "multiple1.addNumberGroup(new Range(1, 6));\n",
    "System.out.println(multiple1.contains(2));\n",
    "System.out.println(multiple1.contains(9));\n",
    "System.out.println(multiple1.contains(6));"
   ]
  },
  {
   "cell_type": "markdown",
   "metadata": {},
   "source": [
    "### Reflection\n",
    "\n",
    "Despite needing to learn how interfaces work, this was definitely the easiest one so far. Literally no syntax errors at all, and I came out of it knowing how interfaces work. This was a very cool FRQ because I learned a new data structure (interface) and got practice with inheritance.\n",
    "\n",
    "Type: writing classes"
   ]
  }
 ],
 "metadata": {
  "kernelspec": {
   "display_name": "Java",
   "language": "java",
   "name": "java"
  },
  "language_info": {
   "codemirror_mode": "java",
   "file_extension": ".jshell",
   "mimetype": "text/x-java-source",
   "name": "Java",
   "pygments_lexer": "java",
   "version": "20.0.2+9-78"
  }
 },
 "nbformat": 4,
 "nbformat_minor": 2
}
