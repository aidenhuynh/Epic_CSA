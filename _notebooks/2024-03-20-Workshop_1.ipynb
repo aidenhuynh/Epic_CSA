{
 "cells": [
  {
   "cell_type": "markdown",
   "metadata": {},
   "source": [
    "---\n",
    "title: Workshop 1 Hacks\n",
    "description: Methods & Control Structures Workshop Hacks\n",
    "toc: true\n",
    "layout: post\n",
    "courses: { csa: {week: '26'} }\n",
    "type: hacks\n",
    "comments: true\n",
    "---"
   ]
  },
  {
   "cell_type": "markdown",
   "metadata": {},
   "source": [
    "## Question 1: Primitive Types vs Reference Types (Unit 1)\n",
    "\n",
    "### Part 1: MCQ\n",
    "\n",
    "> I don't think this is how MCQs work lol"
   ]
  },
  {
   "cell_type": "markdown",
   "metadata": {},
   "source": [
    "(a) What kind of types are person1 and person2?\n",
    "Answer: Reference types?\n",
    "(b) Do person1 and person3 point to the same value in memory?\n",
    "Answer: Yes\n",
    "(c) Is the integer “number” stored in the heap or in the stack?\n",
    "Answer: Stack\n",
    "(d) Is the value that “person1” points to stored in the heap or in the stack?\n",
    "Answer: Heap"
   ]
  },
  {
   "cell_type": "markdown",
   "metadata": {},
   "source": [
    "### Part 2: FRQ"
   ]
  },
  {
   "cell_type": "markdown",
   "metadata": {},
   "source": [
    "(a) Define primitive types and reference types in Java. Provide examples of each.\n",
    "\n",
    "Primitive types: Stores actual data, consists of booleans and numeric types (i.e. int, float, double)\n",
    "Reference types: Stores reference of an object in memory, used for classes"
   ]
  },
  {
   "cell_type": "markdown",
   "metadata": {},
   "source": [
    "(b) Explain the differences between primitive types and reference types in terms of memory allocation and usage in Java programs.\n",
    "\n",
    "Primitive types store the actual data of the object, like the value of an integer, whereas reference types store a reference to the object in memory."
   ]
  },
  {
   "cell_type": "markdown",
   "metadata": {},
   "source": [
    "(c) You have a method `calculateInterest` that takes a primitive `double` type representing the principal amount and a reference type `Customer` representing the customer information. Write the method signature and the method implementation. Include comments to explain your code."
   ]
  },
  {
   "cell_type": "code",
   "execution_count": null,
   "metadata": {
    "vscode": {
     "languageId": "java"
    }
   },
   "outputs": [],
   "source": [
    "// Idk what you mean by method implementation because I have no idea what this method is supposed to do\n",
    "public static void calculateInterest(double num, Customer person) { // takes double \"num\" and Customer \"person\"\n",
    "    // do something? return nothing cuz void\n",
    "}"
   ]
  },
  {
   "cell_type": "markdown",
   "metadata": {},
   "source": [
    "## Question 2: Iteration over 2D arrays (Unit 4)\n",
    "\n",
    "Situation: You are developing a game where you need to track player scores on a 2D grid representing levels and attempts."
   ]
  },
  {
   "cell_type": "markdown",
   "metadata": {},
   "source": [
    "(a) Explain the concept of iteration over a 2D array in Java. Provide an example scenario where iterating over a 2D array is useful in a programming task.\n",
    "\n",
    "Iteration over 2D arrays usually works by looping through each row and every number within that row, using two loops. This is particularly useful for data that can be organized onto a 2D grid, for example, storing the positions of a chess board."
   ]
  },
  {
   "cell_type": "markdown",
   "metadata": {},
   "source": [
    "(b) You need to implement a method `calculateTotalScore` that takes a 2D array `scores` of integers representing player scores and returns the sum of all the elements in the array. Write the method signature and the method implementation. Include comments to explain your code."
   ]
  },
  {
   "cell_type": "code",
   "execution_count": 5,
   "metadata": {
    "vscode": {
     "languageId": "java"
    }
   },
   "outputs": [
    {
     "data": {
      "text/plain": [
       "31"
      ]
     },
     "execution_count": 5,
     "metadata": {},
     "output_type": "execute_result"
    }
   ],
   "source": [
    "// return type of int to return sum\n",
    "// parameter type int[][] for scores 2d array\n",
    "public static int calculateTotalScore(int[][] scores) {\n",
    "    // Define sum\n",
    "    int sum = 0;\n",
    "    \n",
    "    // Define number of rows\n",
    "    int rows = scores.length;\n",
    "\n",
    "    // Loop through each row of the array\n",
    "    for (int row = 0; row < rows; row ++) {\n",
    "        // Get number of columns within that row\n",
    "        int cols = scores[row].length;\n",
    "\n",
    "        // Loop through each column position within the row\n",
    "        for (int col = 0; col < cols; col ++) {\n",
    "            // Add the number at the specify\n",
    "            sum += scores[row][col];\n",
    "        }\n",
    "    }\n",
    "\n",
    "    // After iterating through 2d array return the sum\n",
    "    return sum;\n",
    "}\n",
    "\n",
    "// Make a test array to show the code works, expected output is 31\n",
    "public int[][] testArray = {\n",
    "    {1, 2, 3},\n",
    "    {3, 4, 1},\n",
    "    {9, 2, 6}\n",
    "};\n",
    "\n",
    "// By golly, it works!\n",
    "calculateTotalScore(testArray);"
   ]
  },
  {
   "cell_type": "markdown",
   "metadata": {},
   "source": [
    "## Question 3: ArrayList (Unit 6)\n",
    "\n",
    "Situation: You are developing a student management system where you need to store and analyze the grades of students in a class."
   ]
  },
  {
   "cell_type": "markdown",
   "metadata": {},
   "source": [
    "(a) Define an arrayList in Java. Explain its significance and usefulness in programming.\n",
    "\n",
    "ArrayLists are mutable arrays in Java, meaning that they can be changed after initialization, particularly its length. This is useful when you do not know the size of a data set beforehand, so that the array can adapt based on the input."
   ]
  },
  {
   "cell_type": "markdown",
   "metadata": {},
   "source": [
    "(b) You need to implement a method `calculateAverageGrade` that takes an array `grades` of integers representing student grades and returns the average of all the elements in the array. Write the method signature and the method implementation. Include comments to explain your code."
   ]
  },
  {
   "cell_type": "code",
   "execution_count": 13,
   "metadata": {
    "vscode": {
     "languageId": "java"
    }
   },
   "outputs": [
    {
     "data": {
      "text/plain": [
       "57.8"
      ]
     },
     "execution_count": 13,
     "metadata": {},
     "output_type": "execute_result"
    }
   ],
   "source": [
    "// return type double to return an average w/ decimals\n",
    "// parameter type int[] to contain grades (though I think this should be a double)\n",
    "\n",
    "public static double calculateAverageGrade(int[] grades) {\n",
    "    // Define number of elements in the array and a variable for the sum\n",
    "    int n = grades.length;\n",
    "    int sum = 0;\n",
    "\n",
    "    // Iterate through the array to calculate sum\n",
    "    for (int i = 0; i < n; i ++) {\n",
    "        sum += grades[i];\n",
    "    }\n",
    "\n",
    "    // Return the average calculated by sum/number of elements as a double for decimals\n",
    "    return (double) sum/n;\n",
    "}\n",
    "\n",
    "// Expected output: 57.8\n",
    "int[] grades = {30, 44, 99, 79, 37};\n",
    "\n",
    "calculateAverageGrade(grades);"
   ]
  },
  {
   "cell_type": "markdown",
   "metadata": {},
   "source": [
    "## Question 4: Math Class (Unit 2)\n",
    "\n",
    "Situation: You are developing a scientific calculator application where users need to perform various mathematical operations."
   ]
  },
  {
   "cell_type": "markdown",
   "metadata": {},
   "source": [
    "(a) Discuss the purpose and utility of the Math class in Java programming. Provide examples of at least three methods provided by the Math class and explain their usage.\n",
    "\n",
    "Allows for more complex math operations like absolute value and radicals. I think the most important use of Math is the random feature, because I like rng based games."
   ]
  },
  {
   "cell_type": "markdown",
   "metadata": {},
   "source": [
    "(b) You need to implement a method `calculateSquareRoot` that takes a `double` number as input and returns its square root using the Math class. Write the method signature and the method implementation. Include comments to explain your code."
   ]
  },
  {
   "cell_type": "code",
   "execution_count": 20,
   "metadata": {
    "vscode": {
     "languageId": "java"
    }
   },
   "outputs": [
    {
     "data": {
      "text/plain": [
       "28.004867434072956"
      ]
     },
     "execution_count": 20,
     "metadata": {},
     "output_type": "execute_result"
    }
   ],
   "source": [
    "// import the Math class!\n",
    "import java.lang.Math;\n",
    "\n",
    "// return type double for returning a square root\n",
    "// parameter type double\n",
    "public static double calculateSquareRoot(double number) {\n",
    "    return (double) Math.sqrt(number);\n",
    "}\n",
    "\n",
    "// Test with a number idk\n",
    "calculateSquareRoot(784.2726);"
   ]
  },
  {
   "cell_type": "markdown",
   "metadata": {},
   "source": [
    "## Question 5: If, While, Else (Unit 3-4)\n",
    "\n",
    "Situation: You are developing a simple grading system where you need to determine if a given score is passing or failing."
   ]
  },
  {
   "cell_type": "markdown",
   "metadata": {},
   "source": [
    "(a) Explain the roles and usage of the if statement, while loop, and else statement in Java programming. Provide examples illustrating each.\n",
    "\n",
    "If statements allow to check for conditions, else statements run code that do not meet the specified conditions. A while loop, allows you to run code continuously until a condition is met. An example of a while loop is for a timer, that counts down while the timer is on, or `true`. An if statement can be used to check if a number is bigger than another and the else would do something with it idk man."
   ]
  },
  {
   "cell_type": "markdown",
   "metadata": {},
   "source": [
    "(b) You need to implement a method `printGradeStatus` that takes an integer `score` as input and prints \"Pass\" if the score is greater than or equal to 60, and \"Fail\" otherwise. Write the method signature and the method implementation. Include comments to explain your code."
   ]
  },
  {
   "cell_type": "code",
   "execution_count": 22,
   "metadata": {
    "vscode": {
     "languageId": "java"
    }
   },
   "outputs": [
    {
     "name": "stdout",
     "output_type": "stream",
     "text": [
      "pass\n",
      "fail\n"
     ]
    }
   ],
   "source": [
    "// no return type because it will print\n",
    "// integer parameter type for score\n",
    "public static void printGradeStatus(int score) {\n",
    "    // Check if greater than or equal to 60\n",
    "    if (score >= 60) {\n",
    "        // if yes, output pass\n",
    "        System.out.println(\"pass\");\n",
    "    }\n",
    "    else {\n",
    "        // if not, output fail\n",
    "        System.out.println(\"fail\");\n",
    "    }\n",
    "}\n",
    "\n",
    "// Tests\n",
    "printGradeStatus(60);\n",
    "printGradeStatus(30);"
   ]
  }
 ],
 "metadata": {
  "kernelspec": {
   "display_name": "Java",
   "language": "java",
   "name": "java"
  },
  "language_info": {
   "codemirror_mode": "java",
   "file_extension": ".jshell",
   "mimetype": "text/x-java-source",
   "name": "Java",
   "pygments_lexer": "java",
   "version": "20.0.2+9-78"
  }
 },
 "nbformat": 4,
 "nbformat_minor": 2
}
