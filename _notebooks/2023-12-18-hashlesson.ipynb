{
 "cells": [
  {
   "cell_type": "markdown",
   "metadata": {},
   "source": [
    "---\n",
    "layout: post\n",
    "title: HashMap\n",
    "toc: true\n",
    "comments: true\n",
    "description: Lesson by Shaurya, James, and Shivansh\n",
    "courses: { csa: {week: 16} }\n",
    "type: hacks\n",
    "---"
   ]
  },
  {
   "cell_type": "markdown",
   "metadata": {},
   "source": [
    "# Key Concepts \n",
    "**Directions: Fill in the blanks, this is a Popcorn HACK**\n",
    "\n",
    "## Hashing\n",
    "- HashMap uses a hash function to map keys to their respective buckets.\n",
    "    * Bucket: type of data structure\n",
    "- A good hash function generates a unique hash code for each key, but collisions can still occur.\n",
    "- The hash map in Java does not maintain insertion order.\n",
    "\n",
    "## Performance\n",
    "\n",
    "- HashMap provides constant-time performance (O(1)) for get() and put() operations.\n",
    "- Performance can degrade to O(n) in the worst case, especially if there are many hash collisions.\n",
    "    * non-unique keys, only when allowed\n",
    "\n",
    "> actual: will be constant but not always 1\n",
    "\n",
    "## Key and Value Types\n",
    "\n",
    "- HashMap allows any non-null object as a key and any object (including null) as a value.\n",
    "- For a class to be used as a key, it must implement the equals and hash code methods.\n",
    "\n",
    "## Iteration:\n",
    "\n",
    "- HashMap provides methods like keySet(), values(), and entrySet() for iterating over key-value pairs.\n",
    "- The entrySet() method returns a Set view of key-value pairs, allowing for iteration and modification.\n",
    "\n",
    "## Thread Safety\n",
    "\n",
    "- HashMap is not thread-safe. For thread-safe operations, use ConcurrentHashMap."
   ]
  },
  {
   "cell_type": "markdown",
   "metadata": {},
   "source": [
    "\n",
    "# What is HashMap\n",
    "A HashMap store items in \"key/value\" pairs, and you can access them by an index of another type (e.g. a String).\n",
    "\n",
    "One object is used as a key (index) to another object (value). It can store different types: String keys and Integer values, or the same type, like: String keys and String values:\n"
   ]
  },
  {
   "cell_type": "markdown",
   "metadata": {},
   "source": [
    "## Creating HashMap in Java\n"
   ]
  },
  {
   "cell_type": "code",
   "execution_count": null,
   "metadata": {
    "vscode": {
     "languageId": "java"
    }
   },
   "outputs": [
    {
     "name": "stdout",
     "output_type": "stream",
     "text": [
      "Successfully created a HashMap which stores items in key/value pairs\n"
     ]
    }
   ],
   "source": [
    "import java.util.HashMap; // import the HashMap class\n",
    "\n",
    "public class CreateHashMap{\n",
    "    public static void main(String[] args){\n",
    "        // Generating the HashMap\n",
    "    HashMap<String, String> capitalCities = new HashMap<String, String>();\n",
    "    // Adding key/value pairs tothe HashMap to store\n",
    "            capitalCities.put(\"America\", \"D.C\");\n",
    "            capitalCities.put(\"Germany\", \"Berlin\");\n",
    "            capitalCities.put(\"United Kingdom\", \"London\");\n",
    "            capitalCities.put(\"India\", \"Delhi\");\n",
    "            capitalCities.put(\"Afghanistan\", \"Delhi\");\n",
    "            capitalCities.put(\"Bangladesh\", \"Dhaka\");\n",
    "            \n",
    "            System.out.println(\"Successfully created a HashMap which stores items in key/value pairs\");\n",
    "    }\n",
    "}\n",
    "\n",
    "CreateHashMap.main(null);\n",
    "\n"
   ]
  },
  {
   "cell_type": "markdown",
   "metadata": {},
   "source": [
    "# Methods in HashMap"
   ]
  },
  {
   "cell_type": "code",
   "execution_count": 1,
   "metadata": {
    "vscode": {
     "languageId": "java"
    }
   },
   "outputs": [
    {
     "name": "stdout",
     "output_type": "stream",
     "text": [
      "25\n",
      "4\n",
      "The set is: [Travis Kelce=34, Shivansh=25, Shaurya=30, Patrick Mahomes=28]\n",
      "Is the key 'Shivansh' present? true\n"
     ]
    }
   ],
   "source": [
    "\n",
    "import java.util.HashMap;\n",
    " \n",
    "public class ExampleHashMap {\n",
    "      public static void main(String[] args) {\n",
    "       \n",
    "      // Create a HashMap\n",
    "      HashMap<String, Integer> hashMap = new HashMap<>();\n",
    "       \n",
    "      // Add elements to the HashMap\n",
    "      hashMap.put(\"Shivansh\", 25);\n",
    "      hashMap.put(\"Shaurya\", 30);\n",
    "      hashMap.put(\"Patrick Mahomes\", 28);\n",
    "      hashMap.put(\"Travis Kelce\", 34);\n",
    "      hashMap.put(\"Tom Brady\", 46);\n",
    "       \n",
    "      // HashMap put() method in Java (Access elements in the HashMap)\n",
    "      System.out.println(hashMap.get(\"Shivansh\")); \n",
    "\n",
    "      // HashMap remove() method in Java (Remove an element from the HashMap)\n",
    "      hashMap.remove(\"Tom Brady\");\n",
    "       \n",
    "      // HashMap size() method in Java (Get the size of the HashMap)\n",
    "      System.out.println(hashMap.size()); \n",
    "\n",
    "      // HashMap entrySet() method in Java (Get the Entry Set)\n",
    "      System.out.println(\"The set is: \" + hashMap.entrySet()); \n",
    "\n",
    "      // HashMap containsKey() method in Java (check whether a particular key is being mapped into the HashMap or not)\n",
    "      System.out.println(\"Is the key 'Shivansh' present? \" + hashMap.containsKey(\"Shivansh\"));\n",
    "      \n",
    "      \n",
    "   }\n",
    "}\n",
    "ExampleHashMap.main(null);"
   ]
  },
  {
   "cell_type": "markdown",
   "metadata": {},
   "source": [
    "### Popcorn Hack 1\n",
    "Declare a Hashmap, and then research 5 different HashMap method which were not listed above and use them in your code just like the one above."
   ]
  },
  {
   "cell_type": "code",
   "execution_count": 2,
   "metadata": {
    "vscode": {
     "languageId": "java"
    }
   },
   "outputs": [],
   "source": [
    "// Code Here\n",
    "import java.util.HashMap;\n",
    " \n",
    "public class SuperMap {\n",
    "    public static void main(String[] args) {\n",
    "        HashMap<String, Integer> testMap = new HashMap<>();\n",
    "\n",
    "        // putAll() - puts all key/value pairs from one map into another\n",
    "        testMap.putAll(hashMap);\n",
    "\n",
    "        // putIfAbsent() - only puts a value if the key is not already there\n",
    "        testMap.putIfAbsent(\"Shivansh\", \"This will not be added\"); // Will not be added as the key is already in\n",
    "        testMap.putIfAbsent(\"Aiden\", \"This will be added\"); // Key not present, therefore this will be added\n",
    "\n",
    "        // .values() - returns all the values\n",
    "        testMap.values()\n",
    "\n",
    "        // .replace() - replaces the value of a given key\n",
    "        testMap.replace(\"Shivansh\", \"code code\");\n",
    "\n",
    "        // Not a new method just proving it changed\n",
    "        testMap.get(\"Shivansh\");\n",
    "    }\n",
    "}"
   ]
  },
  {
   "cell_type": "markdown",
   "metadata": {},
   "source": [
    "# Traversing through HashMap\n",
    "\n",
    "In the code below, hash_map.entrySet() is used to return a set view of the mapped elements. Now, getValue() and getKey() functions, key-value pairs can be iterated."
   ]
  },
  {
   "cell_type": "code",
   "execution_count": null,
   "metadata": {
    "vscode": {
     "languageId": "java"
    }
   },
   "outputs": [
    {
     "name": "stdout",
     "output_type": "stream",
     "text": [
      "1 = Jalen Hurts\n",
      "2 = Dak Prescott\n",
      "3 = Josh Allen\n",
      "4 = Lamar Jackson\n",
      "5 = Brock Purdy\n"
     ]
    }
   ],
   "source": [
    "import java.util.HashMap;\n",
    "public class TraverseHashMap{\n",
    "public static void main(String[] args){\n",
    "   // Week 15 NFL Quarterback Rankings\n",
    "   HashMap<Integer, String> hash_map = new HashMap<>();\n",
    "   hash_map.put(1, \"Jalen Hurts\");\n",
    "   hash_map.put(2, \"Dak Prescott\");\n",
    "   hash_map.put(3, \"Josh Allen\");\n",
    "   hash_map.put(4, \"Lamar Jackson\");\n",
    "   hash_map.put(5, \"Brock Purdy\");\n",
    "    for (Map.Entry<Integer, String> set : hash_map.entrySet()) {\n",
    "        System.out.println(set.getKey() + \" = \" + set.getValue());\n",
    "    }\n",
    "}\n",
    "}\n",
    "TraverseHashMap.main(null);\n",
    "\n"
   ]
  },
  {
   "cell_type": "markdown",
   "metadata": {},
   "source": [
    "### Popcorn Hack 2 (Extra Credit)\n",
    "Try to find a different way to traverse a HashMap (Hint: try using a forEach function)"
   ]
  },
  {
   "cell_type": "code",
   "execution_count": 12,
   "metadata": {
    "vscode": {
     "languageId": "java"
    }
   },
   "outputs": [
    {
     "name": "stdout",
     "output_type": "stream",
     "text": [
      "1 = Jalen Hurts\n",
      "2 = Dak Prescott\n",
      "3 = Josh Allen\n",
      "4 = Lamar Jackson\n",
      "5 = Brock Purdy\n"
     ]
    }
   ],
   "source": [
    "// Code Here\n",
    "import java.util.HashMap;\n",
    "public class TraverseHashMap{\n",
    "public static void main(String[] args){\n",
    "   // Week 15 NFL Quarterback Rankings\n",
    "   HashMap<Integer, String> hash_map = new HashMap<>();\n",
    "   hash_map.put(1, \"Jalen Hurts\");\n",
    "   hash_map.put(2, \"Dak Prescott\");\n",
    "   hash_map.put(3, \"Josh Allen\");\n",
    "   hash_map.put(4, \"Lamar Jackson\");\n",
    "   hash_map.put(5, \"Brock Purdy\");\n",
    "\n",
    "   hash_map.forEach((key, value) -> System.out.println(key + \" = \" + value));\n",
    "}\n",
    "}\n",
    "TraverseHashMap.main(null);\n",
    "\n"
   ]
  },
  {
   "cell_type": "markdown",
   "metadata": {},
   "source": [
    "# HashMaps in Java - Pet Registry Example "
   ]
  },
  {
   "cell_type": "code",
   "execution_count": 13,
   "metadata": {
    "vscode": {
     "languageId": "java"
    }
   },
   "outputs": [],
   "source": [
    "public class Pet {\n",
    "    private final String name;\n",
    "    private final int age;\n",
    "    private final String color;\n",
    "\n",
    "    public Pet(String name, int age, String color) {\n",
    "        this.name = name;\n",
    "        this.age = age;\n",
    "        this.color = color;\n",
    "    }\n",
    "\n",
    "    public String getName() {\n",
    "        return this.name;\n",
    "    }\n",
    "\n",
    "    public int getAge() {\n",
    "        return this.age;\n",
    "    }\n",
    "\n",
    "    public String getColor() {\n",
    "        return this.color;\n",
    "    }\n",
    "}\n"
   ]
  },
  {
   "cell_type": "code",
   "execution_count": 14,
   "metadata": {
    "vscode": {
     "languageId": "java"
    }
   },
   "outputs": [
    {
     "name": "stdout",
     "output_type": "stream",
     "text": [
      "Hobbes is a Calico Kitty and is 1 years old.\n",
      "Leo is a Gold Lion and is 8 years old.\n",
      "Porky is a Pink Pig and is 3 years old.\n",
      "Ro-Ro is a Red Robin and is 7 years old.\n",
      "Duke is a Brown Dog and is 14 years old.\n",
      "Midnight is a Black Cat and is 10 years old.\n",
      "\n",
      "Removed: Hobbes, REPL.$JShell$24$Pet@4a5e5067\n",
      "Leo is a Gold Lion and is 8 years old.\n",
      "Porky is a Pink Pig and is 3 years old.\n",
      "Ro-Ro is a Red Robin and is 7 years old.\n",
      "Duke is a Brown Dog and is 14 years old.\n",
      "Midnight is a Black Cat and is 10 years old.\n",
      "\n"
     ]
    }
   ],
   "source": [
    "public class PetsRegistry {\n",
    "    \n",
    "    private HashMap<String, Pet> petRegistry = new HashMap<>(); // declares a private HashMap instance variable petRegistry\n",
    "    // Key Type String and Value Type Pet\n",
    "\n",
    "    public PetsRegistry() {\n",
    "        // Add some pets to the registry\n",
    "        petRegistry.put(\"Leo\", new Pet(\"Lion\", 8, \"Gold\"));\n",
    "        petRegistry.put(\"Porky\", new Pet(\"Pig\", 3, \"Pink\"));\n",
    "        petRegistry.put(\"Ro-Ro\", new Pet(\"Robin\", 7, \"Red\"));\n",
    "        petRegistry.put(\"Midnight\", new Pet(\"Cat\", 10, \"Black\"));\n",
    "        petRegistry.put(\"Hobbes\", new Pet(\"Kitty\", 1, \"Calico\"));\n",
    "        petRegistry.put(\"Duke\", new Pet(\"Dog\", 14, \"Brown\"));\n",
    "    }\n",
    "\n",
    "    public Pet removePet(String name) {\n",
    "        // Remove a pet by name\n",
    "        return petRegistry.remove(name);\n",
    "    }\n",
    "\n",
    "    public void printRegistry() {\n",
    "        // Iterate over the registry and print pet information\n",
    "        for (String name : petRegistry.keySet()) { // for each loop\n",
    "            Pet pet = petRegistry.get(name);\n",
    "            System.out.println(name + \" is a \" + pet.getColor() + \" \" + pet.getName() +\n",
    "                    \" and is \" + pet.getAge() + \" years old.\");\n",
    "        }\n",
    "        System.out.println();\n",
    "    }\n",
    "\n",
    "    public static void main(String[] args) {\n",
    "        // Initialize the pet registry\n",
    "        PetsRegistry petsRegistry = new PetsRegistry();\n",
    "        petsRegistry.printRegistry();\n",
    "\n",
    "        // Remove a pet\n",
    "        String petNameToRemove = \"Hobbes\";\n",
    "        Pet removedPet = petsRegistry.removePet(petNameToRemove);\n",
    "        if (removedPet == null) {\n",
    "            System.out.println(petNameToRemove + \" not found\");\n",
    "        } else {\n",
    "            System.out.println(\"Removed: \" + petNameToRemove + \", \" + removedPet);\n",
    "        }\n",
    "\n",
    "        // Print the updated registry\n",
    "        petsRegistry.printRegistry();\n",
    "    }\n",
    "}\n",
    "PetsRegistry.main(null)"
   ]
  },
  {
   "cell_type": "markdown",
   "metadata": {},
   "source": [
    "# Popcorn HACK 3 (Shaurya)"
   ]
  },
  {
   "cell_type": "code",
   "execution_count": 1,
   "metadata": {
    "vscode": {
     "languageId": "java"
    }
   },
   "outputs": [],
   "source": [
    "import java.util.HashMap;\n",
    "import java.util.Map;\n",
    "\n",
    "public class HashMapTest {\n",
    "    public static void main(String[] args) {\n",
    "        // Create a new HashMap with Integer keys and String values\n",
    "        Map<Integer, String> myMap = new HashMap<>();\n",
    "\n",
    "        // Add some key-value pairs to the HashMap\n",
    "        myMap.put(1, \"Apple\");\n",
    "        myMap.put(2, \"Banana\");\n",
    "        myMap.put(3, \"Cherry\");\n",
    "\n",
    "        // Fill in the blanks: Retrieve and print the value for key 2\n",
    "        String valueForKey2 = myMap.get(2);\n",
    "        System.out.println(\"Value for key 2: \" + valueForKey2);\n",
    "\n",
    "        // Fill in the blanks: Check if the HashMap contains key 4\n",
    "        boolean containsKey4 = myMap.containsKey(4);\n",
    "        System.out.println(\"Does the map contain key 4? \" + containsKey4);\n",
    "\n",
    "        // Fill in the blanks: Remove the entry with key 1 from the HashMap\n",
    "        myMap.remove(1);\n",
    "\n",
    "        // Print the updated contents of the HashMap\n",
    "        System.out.println(\"Updated HashMap:\");\n",
    "        for (Map.Entry<Integer, String> entry : myMap.entrySet()) {\n",
    "            System.out.println(\"Key: \" + entry.getKey() + \", Value: \" + entry.getValue());\n",
    "        }\n",
    "    }\n",
    "}\n"
   ]
  },
  {
   "cell_type": "markdown",
   "metadata": {},
   "source": [
    "# Popcorn HACK 4 - Quiz (Shaurya)\n",
    "\n",
    "## Multiple Choice:\n",
    "\n",
    "### Question 1: Hashing in HashMap\n",
    "\n",
    "What is the primary purpose of a hash function in a HashMap?\n",
    "\n",
    "- A) To encrypt the keys\n",
    "- B) To map keys to corresponding buckets\n",
    "- C) To validate the keys\n",
    "- D) To generate random numbers\n",
    "\n",
    "> B\n",
    "\n",
    "### Question 2: Performance of HashMap\n",
    "\n",
    "What is the time complexity of the get() and put() operations in a well-distributed HashMap?\n",
    "\n",
    "- A) O(log n)\n",
    "- B) O(n)\n",
    "- C) O(1)\n",
    "- D) O(n^2)\n",
    "\n",
    "> C, It should be O(c) but close enough\n",
    "\n",
    "## Free Response:\n",
    "\n",
    "### Question 3: Key and Value Types in HashMap\n",
    "\n",
    "Describe the types of objects that can be used as keys and values in a HashMap. Additionally, explain the methods that a class should implement if used as a key.\n",
    "\n",
    "> Non-null objects can be used as keys, and any object can be used as a value. In order to be a key, the object must have the equals and hash code methods.\n",
    "\n",
    "\n",
    "### Question 4: Iteration in HashMap\n",
    "\n",
    "Provide brief explanations for two methods in HashMap that can be used to iterate over its key-value pairs.\n",
    "\n",
    "> forEach() iterates through each key value pair and can be used to perform tasks on the pairs.\n",
    "> you can use get() with a for loop to iterate (self-explanatory)\n",
    "\n",
    "\n",
    "### Question 5: Thread Safety in HashMap\n",
    "\n",
    "Explain why HashMap is not thread-safe and what issues might arise when multiple threads access the same HashMap instance concurrently. Suggest an alternative class that can be used for concurrent access and explain its benefits.\n",
    "\n",
    "Brother you could not even answer this question. Alternative is concurrent hashmap but this question shouldn't count anyways."
   ]
  },
  {
   "cell_type": "markdown",
   "metadata": {},
   "source": [
    "# HACKS (Shaurya)\n",
    "\n",
    "1) Finish Popcorn HACKS\n",
    "2) Develop a Java application that utilizes a HashMap to manage a sports team roster. Each player on the team should have attributes like name, position, and jersey number. The program should enable functionalities such as adding new players, updating player information, and searching for players based on their jersey numbers using the HashMap implementation.\n",
    "3) Reflection (4-5 sentences)"
   ]
  },
  {
   "cell_type": "markdown",
   "metadata": {},
   "source": [
    "## MY HACKS\n",
    "\n",
    "### Sports roster\n",
    "Below this cell\n",
    "\n",
    "### Reflection\n",
    "So basically hashmaps are the exact same thing as dictionaries in Python, just made needlessly more complicated. I hate this language. I don't like backend. I feel like a reflection on this was completely unnecessary and a waste of time."
   ]
  },
  {
   "cell_type": "code",
   "execution_count": 57,
   "metadata": {
    "vscode": {
     "languageId": "java"
    }
   },
   "outputs": [
    {
     "name": "stdout",
     "output_type": "stream",
     "text": [
      "\n",
      "Individual Item:\n",
      "\n",
      "Player data for aiden:\n",
      "- name: aiden\n",
      "- id: 1\n",
      "- position: scrum master\n",
      "\n",
      "All items:\n",
      "\n",
      "Player data for toby:\n",
      "- name: toby\n",
      "- id: 2\n",
      "- position: devops\n",
      "\n",
      "Player data for ishi:\n",
      "- name: ishi\n",
      "- id: 1000\n",
      "- position: frontend dev\n",
      "\n",
      "Player data for aiden:\n",
      "- name: aiden\n",
      "- id: 1\n",
      "- position: scrum master\n",
      "\n",
      "Updated Item:\n",
      "\n",
      "Player data for aiden:\n",
      "- name: aiden\n",
      "- id: 7000\n",
      "- position: product owner\n",
      "\n",
      "All items:\n",
      "\n",
      "Player data for ishi:\n",
      "- name: ishi\n",
      "- id: 1000\n",
      "- position: frontend dev\n",
      "\n",
      "Player data for aiden:\n",
      "- name: aiden\n",
      "- id: 7000\n",
      "- position: product owner\n"
     ]
    }
   ],
   "source": [
    "import java.util.HashMap;\n",
    "\n",
    "public class Player {\n",
    "    public int id;\n",
    "    public String pos;\n",
    "\n",
    "    public Player(int id, String pos) {\n",
    "        this.id = id;\n",
    "        this.pos = pos;\n",
    "    }\n",
    "}\n",
    "\n",
    "public class Roster {\n",
    "    HashMap<String, Player> roster = new HashMap<>();\n",
    "\n",
    "    public void add(String name, int id, String pos) {\n",
    "        roster.put(name, new Player(id, pos));\n",
    "    }\n",
    "\n",
    "    public void remove(String name) {\n",
    "        roster.remove(name);\n",
    "    }\n",
    "\n",
    "    public void replaceId(String name, int newId) {\n",
    "        roster.get(name).id = newId;\n",
    "    }\n",
    "\n",
    "    public void replacePos(String name, String newPos) {\n",
    "        roster.get(name).pos = newPos;\n",
    "    }\n",
    "\n",
    "    public void display(String name) {\n",
    "        Player test = roster.get(name);\n",
    "\n",
    "        System.out.println(\"\\nPlayer data for \" + name + \":\");\n",
    "        System.out.println(\"- name\" + \": \" + name);\n",
    "        System.out.println(\"- id\" + \": \" + test.id);\n",
    "        System.out.println(\"- position\" + \": \" + test.pos);\n",
    "    }\n",
    "\n",
    "    public void displayAll() {\n",
    "        roster.forEach((key, value) -> this.display(key));\n",
    "    }\n",
    "\n",
    "    public static void main(String[] args) {\n",
    "        Roster team = new Roster();\n",
    "\n",
    "        // Add things!\n",
    "        team.add(\"aiden\", 1, \"scrum master\");\n",
    "        team.add(\"toby\", 2, \"devops\");\n",
    "        team.add(\"ishi\", 1000, \"frontend dev\");\n",
    "\n",
    "\n",
    "        // Display individual item\n",
    "        System.out.println(\"\\nIndividual Item:\");\n",
    "        team.display(\"aiden\");\n",
    "\n",
    "        // Display all\n",
    "        System.out.println(\"\\nAll items:\");\n",
    "        team.displayAll();\n",
    "\n",
    "        // Update attributes\n",
    "        team.replaceId(\"aiden\", 7000);\n",
    "        team.replacePos(\"aiden\", \"product owner\");\n",
    "\n",
    "        // proof that updated\n",
    "        System.out.println(\"\\nUpdated Item:\");\n",
    "        team.display(\"aiden\");\n",
    "\n",
    "        // Remove items\n",
    "        team.remove(\"toby\");\n",
    "\n",
    "        // Proof that item was removed\n",
    "        System.out.println(\"\\nAll items:\");\n",
    "        team.displayAll();\n",
    "    }\n",
    "}\n",
    "\n",
    "Roster.main(null);"
   ]
  }
 ],
 "metadata": {
  "kernelspec": {
   "display_name": "Java",
   "language": "java",
   "name": "java"
  },
  "language_info": {
   "codemirror_mode": "java",
   "file_extension": ".jshell",
   "mimetype": "text/x-java-source",
   "name": "Java",
   "pygments_lexer": "java",
   "version": "20.0.2+9-78"
  }
 },
 "nbformat": 4,
 "nbformat_minor": 2
}
