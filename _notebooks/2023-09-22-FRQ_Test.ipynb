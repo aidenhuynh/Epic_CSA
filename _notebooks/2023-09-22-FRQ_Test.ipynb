{
 "cells": [
  {
   "attachments": {},
   "cell_type": "markdown",
   "metadata": {},
   "source": [
    "---\n",
    "comments: true\n",
    "layout: post\n",
    "title: FRQ Test\n",
    "description: Punishment for our sins......\n",
    "type: hacks\n",
    "courses: { csa: {week: 5} }\n",
    "categories: notebook\n",
    "---"
   ]
  },
  {
   "cell_type": "code",
   "execution_count": 34,
   "metadata": {},
   "outputs": [
    {
     "data": {
      "text/plain": [
       "[10, 9, 8, 7, 6, 5, 4, 3, 2, 1, 1, 2, 3, 4, 5, 6, 7, 8, 9, 10]"
      ]
     },
     "execution_count": 34,
     "metadata": {},
     "output_type": "execute_result"
    }
   ],
   "source": [
    "\n",
    "public static int[] makeArray(int n) {\n",
    "    int[] array = new int[n];\n",
    "\n",
    "    for (int i = 0; i < array.length; i ++) {\n",
    "        array[i] = i + 1;\n",
    "    };\n",
    "\n",
    "    return array;\n",
    "}\n",
    "\n",
    "\n",
    "public static int[] reverseArray(int[] list){\n",
    "    int length = list.length;\n",
    "    int[] reverse = new int[length];\n",
    "\n",
    "    int j = 0;\n",
    "\n",
    "    for (int i = length - 1; i >= 0; i --) {\n",
    "        reverse[j] = list[i];\n",
    "        j +=1;\n",
    "    };\n",
    "\n",
    "    return reverse;\n",
    "}\n",
    "\n",
    "public static String printArray(int[] list) {\n",
    "    String json = \"[\";\n",
    "\n",
    "    for (int i = 0; i < list.length; i ++) {\n",
    "        json += list[i];\n",
    "\n",
    "        if (i != list.length - 1) {\n",
    "            json += \", \";\n",
    "        };  \n",
    "    };\n",
    "\n",
    "    json += \"]\";\n",
    "\n",
    "    return json;\n",
    "}\n",
    "\n",
    "public static int[] mergeArray(int[] arr1, int[] arr2) {\n",
    "    int[] result = new int[arr1.length + arr2.length];\n",
    "\n",
    "    int index = 0;\n",
    "\n",
    "    for (int i = 0; i < arr1.length; i ++) {\n",
    "        result[index] = arr1[i];\n",
    "        index ++;\n",
    "    };\n",
    "\n",
    "\n",
    "    for (int i = 0; i < arr2.length; i ++) {\n",
    "        result[index] = arr2[i];\n",
    "        index ++;\n",
    "    };\n",
    "\n",
    "    return result;\n",
    "}\n",
    "\n",
    "int[] initial = makeArray(10);\n",
    "int[] reverse = reverseArray(initial);\n",
    "int[] merged = mergeArray(reverse, initial);\n",
    "printArray(merged);"
   ]
  }
 ],
 "metadata": {
  "kernelspec": {
   "display_name": "Java",
   "language": "java",
   "name": "java"
  },
  "language_info": {
   "codemirror_mode": "java",
   "file_extension": ".jshell",
   "mimetype": "text/x-java-source",
   "name": "java",
   "pygments_lexer": "java",
   "version": "20.0.2+9-78"
  },
  "orig_nbformat": 4
 },
 "nbformat": 4,
 "nbformat_minor": 2
}
