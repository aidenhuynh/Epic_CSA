{
 "cells": [
  {
   "cell_type": "markdown",
   "metadata": {},
   "source": [
    "---\n",
    "comments: true\n",
    "layout: post\n",
    "title: 2015 Practice MCQ Reflection\n",
    "description: Score and corrections for AP CSA 2015 Practice MCQs\n",
    "type: post\n",
    "toc: true\n",
    "courses: { csa: {week: 17} }\n",
    "---"
   ]
  },
  {
   "cell_type": "markdown",
   "metadata": {},
   "source": [
    "# Score: 32/39\n",
    "\n",
    "![2015 practice score](../images/sample.png)"
   ]
  },
  {
   "cell_type": "markdown",
   "metadata": {},
   "source": [
    "# Notes/Corrections:"
   ]
  },
  {
   "cell_type": "markdown",
   "metadata": {},
   "source": [
    "## Question 9:\n",
    "\n",
    "A pair of number cubes is used in a game of chance. Each number cube has six sides, numbered from 1 to 6, inclusive, and there is an equal probability for each of the numbers to appear on the top side (indicating the cube's value) when the number cube is rolled. The following incomplete statement appears in a program that computes the sum of the values produced by rolling two number cubes.\n",
    "\n",
    "int sum = / * *missing code* * / ;\n",
    "\n",
    "Which of the following replacements for /* *missing code* */ would best simulate the value produced as a result of rolling two number cubes?\n",
    "\n",
    "### Comments:\n",
    "\n",
    "We were debating between:\n",
    "\n",
    "C: `(int) (Math.random() * 6) + (int) (Math.random() * 6)`<br>\n",
    "E: `2 + (int) (Math.random() * 6) + (int) (Math.random() * 6)`\n",
    "\n",
    "Our team was uncertain if typecasting a double into an int rounds down, which after looking it up we found that it did, meaning we would need to add 2 to our Math.random() runs\n",
    "\n",
    "So, the correct answer is E."
   ]
  },
  {
   "cell_type": "markdown",
   "metadata": {},
   "source": [
    "## Question 12:\n",
    "Assume that x and y are boolean variables and have been properly initialized.\n",
    "\n",
    "An expression reads as follows:\n",
    "`(x && y) && !(x || y)`\n",
    "\n",
    "Which of the following best describes the result of evaluating the expression above?\n",
    "\n",
    "### Comments:\n",
    "\n",
    "I was at first unsure of how to distribute a NOT to an or, then Toby conceptually explained how that would turn into a not x and not y, or `!x && !y`"
   ]
  },
  {
   "cell_type": "markdown",
   "metadata": {},
   "source": [
    "## Question 12:\n",
    "Consider the following code segment.\n",
    "\n",
    "```java\n",
    "int x = 1;\n",
    "while ( /* condition */ )\n",
    "{\n",
    "    if (x % 2)\n",
    "    {\n",
    "        System.out.print(x + \" \");\n",
    "    }\n",
    "    x = x + 2;\n",
    "}\n",
    "```\n",
    "\n",
    "The following conditions have been proposed to replace /* condition */ in the code segment.\n",
    "\n",
    "<ol type=\"i\">\n",
    "    <li>x < 0</li>\n",
    "    <li>x <= 1</li>\n",
    "    <li>x < 10</li>\n",
    "</ol>\n",
    "\n",
    "For which of the conditions will nothing be printed?\n",
    "\n",
    "### Comments:\n",
    "\n",
    "I chose I and II, because I did not realize that `x = x + 2` would guarantee that x is always odd because it starts at 1, meaning that it wouldn't print anything for all three options."
   ]
  },
  {
   "cell_type": "markdown",
   "metadata": {},
   "source": [
    "## Question 22\n",
    "\n",
    "Consider the following definition.\n",
    "\n",
    "```java\n",
    "int[][] numbers = [[1, 2, 3],\n",
    "                [4, 5, 6]];\n",
    "```\n",
    "*note: these are supposed to be curly not square braces, used curly so that it wouldnt cause liquid issues.*\n",
    "\n",
    "Which of the following code segments produces the output 123456 ?\n",
    "\n",
    "### Comments\n",
    "\n",
    "Our team was debating between:\n",
    "\n",
    "A:\n",
    "\n",
    "```java\n",
    "for (int[] row : numbers) {\n",
    "    for (int n : row) {\n",
    "        System.out.print(n);\n",
    "    }\n",
    "}\n",
    "```\n",
    "\n",
    "E:\n",
    "\n",
    "```java\n",
    "for (int c = 0; c < numbers[0].length; c ++) {\n",
    "    for (int r = 0; r < numbers.length; r ++) {\n",
    "        System.out.print(numbers[r][c])\n",
    "    }\n",
    "}\n",
    "```\n",
    "\n",
    "However, after realizing that option E would print them in columns then rows order (142536), we saw that A was the correct answer."
   ]
  },
  {
   "cell_type": "markdown",
   "metadata": {},
   "source": [
    "## Question 27\n",
    "\n",
    "![mcq](../images/mcq/27.png)\n",
    "\n",
    "### Comments\n",
    "\n",
    "I don't know why but my brain thought the smallest element in selection goes to the end instead of swapping with the min. "
   ]
  },
  {
   "cell_type": "markdown",
   "metadata": {},
   "source": [
    "## Question 30\n",
    "\n",
    "![30](../images/mcq/30.png)\n",
    "\n",
    "### Comments\n",
    "\n",
    "option I uses 3 if statements and not else ifs, meaning it would do all of them"
   ]
  },
  {
   "cell_type": "markdown",
   "metadata": {},
   "source": [
    "## Questions 35-38\n",
    "\n",
    "I let Adi guess random ones for me because I got bored of doing the actual test\n",
    "\n",
    "### Comments\n",
    "\n",
    "Most of these are just tracing through iterations and loops, literally can't get them wrong if you write it down"
   ]
  }
 ],
 "metadata": {
  "kernelspec": {
   "display_name": "Java",
   "language": "java",
   "name": "java"
  },
  "language_info": {
   "codemirror_mode": "java",
   "file_extension": ".jshell",
   "mimetype": "text/x-java-source",
   "name": "java",
   "pygments_lexer": "java",
   "version": "20.0.2+9-78"
  }
 },
 "nbformat": 4,
 "nbformat_minor": 2
}
