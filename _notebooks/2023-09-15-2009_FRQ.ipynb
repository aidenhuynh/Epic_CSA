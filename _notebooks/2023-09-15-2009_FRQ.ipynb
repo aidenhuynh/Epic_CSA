{
 "cells": [
  {
   "attachments": {},
   "cell_type": "markdown",
   "metadata": {},
   "source": [
    "---\n",
    "comments: true\n",
    "layout: post\n",
    "title: 2009 FRQ 1\n",
    "description: Solution and takeaways from AP CSA 2009 FRQ 1\n",
    "type: hacks\n",
    "toc: true\n",
    "courses: { csa: {week: 4} }\n",
    "categories: notebook\n",
    "---"
   ]
  },
  {
   "attachments": {},
   "cell_type": "markdown",
   "metadata": {},
   "source": [
    "## FRQ #1\n",
    "![q1]({{site.baseurl}}/images/frq/1.png)"
   ]
  },
  {
   "cell_type": "code",
   "execution_count": 4,
   "metadata": {},
   "outputs": [],
   "source": [
    "import java.lang.Math;\n",
    "\n",
    "public class NumberCube {\n",
    "    public int toss() { \n",
    "        return 1 + (int)(Math.random() * 6);\n",
    "    }\n",
    "} "
   ]
  },
  {
   "attachments": {},
   "cell_type": "markdown",
   "metadata": {},
   "source": [
    "### a) ``cubeTosses`` method\n",
    "![a]({{site.baseurl}}/images/frq/2.png)\n",
    "\n",
    "#### Solution:"
   ]
  },
  {
   "cell_type": "code",
   "execution_count": 48,
   "metadata": {},
   "outputs": [
    {
     "name": "stdout",
     "output_type": "stream",
     "text": [
      "5\n",
      "6\n",
      "1\n",
      "2\n",
      "3\n"
     ]
    }
   ],
   "source": [
    "import java.lang.Math;\n",
    "\n",
    "public class NumberCube {\n",
    "    public int toss() { \n",
    "        return 1 + (int)(Math.random() * 6);\n",
    "    }\n",
    "\n",
    "    // Begin solution to problem\n",
    "    public int[] getCubeTosses(NumberCube cube, int numTosses) {\n",
    "        // Initialize an array of integers with length equal to numTosses\n",
    "        int[] results = new int[numTosses];\n",
    "    \n",
    "        // Loop for numTosses\n",
    "        for (int i = 0; i < numTosses; i ++) {\n",
    "            // Set each value to a cube roll; must be done this way because Java arrays are FIXED IN SIZE\n",
    "            results[i] = cube.toss();\n",
    "        };\n",
    "    \n",
    "        return results;\n",
    "    }\n",
    "    // End soluton to problem\n",
    "};\n",
    "\n",
    "// Create new object for testing\n",
    "NumberCube dice = new NumberCube();\n",
    "\n",
    "// Set results to a variable, because otherwise it returns a memory address/pointer\n",
    "int[] list = dice.getCubeTosses(dice, 5);\n",
    "\n",
    "// Print each item in the list\n",
    "for (int item : list) {\n",
    "    System.out.println(item);\n",
    "}"
   ]
  },
  {
   "attachments": {},
   "cell_type": "markdown",
   "metadata": {},
   "source": [
    "#### CollegeBoard Grade:\n",
    "+ 1 for correctly constructing arrays\n",
    "+ 2.5 for functionality\n",
    "+ .5 for return"
   ]
  },
  {
   "attachments": {},
   "cell_type": "markdown",
   "metadata": {},
   "source": [
    "### b) ``getLongestRun`` method\n",
    "\n",
    "![b]({{site.baseurl}}/images/frq/3.png)\n",
    "\n",
    "#### Solution:"
   ]
  },
  {
   "cell_type": "code",
   "execution_count": 57,
   "metadata": {},
   "outputs": [
    {
     "name": "stdout",
     "output_type": "stream",
     "text": [
      "3\n",
      "6\n",
      "3\n",
      "1\n",
      "6\n"
     ]
    },
    {
     "data": {
      "text/plain": [
       "1"
      ]
     },
     "execution_count": 57,
     "metadata": {},
     "output_type": "execute_result"
    }
   ],
   "source": [
    "import java.lang.Math;\n",
    "\n",
    "public class NumberCube {\n",
    "    public int toss() { \n",
    "        return 1 + (int)(Math.random() * 6);\n",
    "    }\n",
    "\n",
    "    public int[] getCubeTosses(NumberCube cube, int numTosses) {\n",
    "        // Initialize an array of integers with length equal to numTosses\n",
    "        int[] results = new int[numTosses];\n",
    "    \n",
    "        // Loop for numTosses\n",
    "        for (int i = 0; i < numTosses; i ++) {\n",
    "            // Set each value to a cube roll; must be done this way because Java arrays are FIXED IN SIZE\n",
    "            results[i] = cube.toss();\n",
    "        };\n",
    "    \n",
    "        return results;\n",
    "    }\n",
    "\n",
    "    // Begin solution to problem\n",
    "    public static int getLongestRun(int[] values) {\n",
    "        // If there are no values, return -1\n",
    "        if (values.length == 0) {\n",
    "            return -1;\n",
    "        };\n",
    "    \n",
    "        // Create a new integer for the maximum value, zero for default\n",
    "         int maxIndex = 0;\n",
    "    \n",
    "        // For every value\n",
    "        for (int i = 0; i < values.length; i ++) {\n",
    "            // If the value is bigger than the current max, replace the max with it\n",
    "            if (values[maxIndex] < values[i]) {\n",
    "                maxIndex = i;\n",
    "            }\n",
    "        };\n",
    "    \n",
    "        // By the end of the loop, the index of the max will be returned\n",
    "        return maxIndex;\n",
    "    };\n",
    "    // End solution to problem\n",
    "};\n",
    "\n",
    "// Create new object for testing\n",
    "NumberCube dice = new NumberCube();\n",
    "\n",
    "// Set results to a variable, because otherwise it returns a memory address/pointer\n",
    "int[] list = dice.getCubeTosses(dice, 5);\n",
    "\n",
    "// Print each item in the list\n",
    "for (int item : list) {\n",
    "    System.out.println(item);\n",
    "}\n",
    "\n",
    "// Get the index of the max\n",
    "dice.getLongestRun(list)"
   ]
  },
  {
   "attachments": {},
   "cell_type": "markdown",
   "metadata": {},
   "source": [
    "#### CollegeBoard Grading:\n",
    "+ 1 for iteration\n",
    "+ 1 for comparing values\n",
    "+ 1 checks value for each run\n",
    "+ 1 for identifying maximum\n",
    "+ 1 for returning max or -1\n",
    "\n",
    "(Initially, I would have only gotten 2 points because my for loop did not work.)"
   ]
  },
  {
   "attachments": {},
   "cell_type": "markdown",
   "metadata": {},
   "source": [
    "### Key Takeaways:\n",
    "* Java is very similar to JavaScript (crazy, I know)\n",
    "* Arrays are **FIXED IN SIZE**\n",
    "    - You must define **size** and **data type** when creating an array\n",
    "    - Example:\n",
    "        ```java\n",
    "        int[] arrayName = new int[length]\n",
    "        ```\n",
    "        * `int[]` = list of integers\n",
    "        * `arrayName` = name of the array\n",
    "        * `new int[length]` = creates a new integer array of a length (replace `length` with an integer)\n",
    "* Creating objects in Java:\n",
    "    - Keywords: Come before defining things\n",
    "        * `public` = can be accessed from anywhere in the code, similar to `var`\n",
    "        * `private` = only accessible within the declared class, similar to `let`, incompatible with `static`\n",
    "        * `static` = used to define methods that can be used by all instances of an object\n",
    "        * `void` = used in place of return value type to indicate no return\n",
    "    - Parameters:\n",
    "        * Define parameter type and name for access\n",
    "            - `int`, `String`, `char`, `float`, `boolean`"
   ]
  }
 ],
 "metadata": {
  "kernelspec": {
   "display_name": "Java",
   "language": "java",
   "name": "java"
  },
  "language_info": {
   "name": "java"
  },
  "orig_nbformat": 4
 },
 "nbformat": 4,
 "nbformat_minor": 2
}
