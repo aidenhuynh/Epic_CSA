{
 "cells": [
  {
   "cell_type": "markdown",
   "metadata": {},
   "source": [
    "---\n",
    "title: 2015 FRQ 2\n",
    "description: Part of final grade for T2 AP CSA\n",
    "toc: true\n",
    "layout: post\n",
    "courses: { csa: {week: '22'} }\n",
    "type: hacks\n",
    "comments: true\n",
    "---"
   ]
  },
  {
   "cell_type": "markdown",
   "metadata": {},
   "source": [
    "## Question 2\n",
    "\n",
    "**Directions:** SHOW ALL YOUR WORK. REMEMBER THAT PROGRAM SEGMENTS ARE TO BE WRITTEN IN JAVA.\n",
    "\n",
    "**Notes:**\n",
    "\n",
    "* Assume that the classes listed in the Java Quick Reference have been imported where appropriate.\n",
    "\n",
    "* Unless otherwise noted in the question, assume that parameters in method calls are not null and that methods are called only when their preconditions are satisfied.\n",
    "\n",
    "* In writing solutions for each question, you may use any of the accessible methods that are listed in classes defined in that question. Writing significant amounts of code that can be replaced by a call to one of these methods will not receive full credit.\n",
    "\n",
    "Consider a guessing game in which a player tries to guess a hidden word. The hidden word contains only capital letters and has a length known to the player. A guess contains only capital letters and has the same length as the hidden word.\n",
    "\n",
    "After a guess is made, the player is given a hint that is based on a comparison between the hidden word and the guess. Each position in the hint contains a character that corresponds to the letter in the same position in the guess. The following rules determine the characters that appear in the hint.\n",
    "\n",
    "![a](https://assets.learnosity.com/organisations/537/media.academicmerit.com/2010bb9c8d8f14bcab30e3636d79b06d/original.jpg)\n",
    "\n",
    "The HiddenWord class will be used to represent the hidden word in the game. The hidden word is passed to the constructor. The class contains a method, getHint, that takes a guess and produces a hint.\n",
    "\n",
    "For example, suppose the variable puzzle is declared as follows.\n",
    "\n",
    "HiddenWord puzzle = new HiddenWord(\"HARPS\");\n",
    "\n",
    "The following table shows several guesses and the hints that would be produced.\n",
    "\n",
    "![a](https://assets.learnosity.com/organisations/537/media.academicmerit.com/ddd155eface263bb31e740680d1b6e17/original.jpg)\n",
    "\n",
    "Write the complete HiddenWord class, including any necessary instance variables, its constructor, and the method, getHint, described above. You may assume that the length of the guess is the same as the length of the hidden word.\n",
    "\n",
    "### Solution:"
   ]
  },
  {
   "cell_type": "code",
   "execution_count": 64,
   "metadata": {
    "vscode": {
     "languageId": "java"
    }
   },
   "outputs": [
    {
     "name": "stdout",
     "output_type": "stream",
     "text": [
      "+A+++\n",
      "H****\n",
      "H*++*\n",
      "HAR*S\n"
     ]
    },
    {
     "name": "stdout",
     "output_type": "stream",
     "text": [
      "HARPS\n"
     ]
    }
   ],
   "source": [
    "public class HiddenWord {\n",
    "    public String secret;\n",
    "\n",
    "    // just public to be used as a constructor\n",
    "    public HiddenWord(String word) {\n",
    "        this.secret = word;\n",
    "    }\n",
    "\n",
    "    public String getHint(String guess) {\n",
    "        String word = this.secret;\n",
    "        String hint = \"\";\n",
    "        int len = word.length();\n",
    "\n",
    "        // Not necessary but I felt like it\n",
    "        if (len != guess.length()) {\n",
    "            return \"Invalid guess\";\n",
    "        }\n",
    "\n",
    "        for (int i = 0; i < len; i ++) {\n",
    "            char guessChar = guess.charAt(i);\n",
    "            char wordChar = word.charAt(i);\n",
    "\n",
    "            if (word.indexOf(guessChar) != -1) {\n",
    "                if (wordChar == guessChar) {\n",
    "                    hint += guessChar;\n",
    "                }\n",
    "\n",
    "                else {\n",
    "                    hint += \"+\";\n",
    "                }\n",
    "            }\n",
    "\n",
    "            else {\n",
    "                hint += \"*\";\n",
    "            }\n",
    "        }\n",
    "\n",
    "        return hint;\n",
    "    }\n",
    "}\n",
    "\n",
    "HiddenWord puzzle = new HiddenWord(\"HARPS\");\n",
    "\n",
    "System.out.println(puzzle.getHint(\"AAAAA\"));\n",
    "System.out.println(puzzle.getHint(\"HELLO\"));\n",
    "System.out.println(puzzle.getHint(\"HEART\"));\n",
    "System.out.println(puzzle.getHint(\"HARMS\"));\n",
    "System.out.println(puzzle.getHint(\"HARPS\"));"
   ]
  },
  {
   "cell_type": "markdown",
   "metadata": {},
   "source": [
    "### Reflection\n",
    "\n",
    "Again, the code itself wasn't hard, just syntax stuff. This time, it was with making a constructor, where I autopiloted and added \"void\" to it, which makes Java treat it as a method instead of a contructor.\n",
    "\n",
    "This one's type was method and control structures. Woo."
   ]
  }
 ],
 "metadata": {
  "kernelspec": {
   "display_name": "Java",
   "language": "java",
   "name": "java"
  },
  "language_info": {
   "codemirror_mode": "java",
   "file_extension": ".jshell",
   "mimetype": "text/x-java-source",
   "name": "Java",
   "pygments_lexer": "java",
   "version": "20.0.2+9-78"
  }
 },
 "nbformat": 4,
 "nbformat_minor": 2
}
