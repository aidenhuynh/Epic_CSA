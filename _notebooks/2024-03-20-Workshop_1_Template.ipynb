{
 "cells": [
  {
   "cell_type": "markdown",
   "metadata": {},
   "source": [
    "---\n",
    "title: Workshop 1 Hacks TEMPLATE\n",
    "description: Methods & Control Structures Workshop Hacks\n",
    "toc: true\n",
    "layout: post\n",
    "courses: { csa: {week: '26'} }\n",
    "type: hacks\n",
    "comments: true\n",
    "---"
   ]
  },
  {
   "cell_type": "markdown",
   "metadata": {},
   "source": [
    "## Question 1: Primitive Types vs Reference Types (Unit 1)\n",
    "\n",
    "### Part 1: MCQ"
   ]
  },
  {
   "cell_type": "markdown",
   "metadata": {},
   "source": [
    "(a) What kind of types are person1 and person2?\n",
    "Answer: \n",
    "(b) Do person1 and person3 point to the same value in memory?\n",
    "Answer: \n",
    "(c) Is the integer “number” stored in the heap or in the stack?\n",
    "Answer: \n",
    "(d) Is the value that “person1” points to stored in the heap or in the stack?\n",
    "Answer: "
   ]
  },
  {
   "cell_type": "markdown",
   "metadata": {},
   "source": [
    "### Part 2: FRQ"
   ]
  },
  {
   "cell_type": "markdown",
   "metadata": {},
   "source": [
    "(a) Define primitive types and reference types in Java. Provide examples of each.\n",
    "\n"
   ]
  },
  {
   "cell_type": "markdown",
   "metadata": {},
   "source": [
    "(b) Explain the differences between primitive types and reference types in terms of memory allocation and usage in Java programs.\n"
   ]
  },
  {
   "cell_type": "markdown",
   "metadata": {},
   "source": [
    "(c) You have a method `calculateInterest` that takes a primitive `double` type representing the principal amount and a reference type `Customer` representing the customer information. Write the method signature and the method implementation. Include comments to explain your code."
   ]
  },
  {
   "cell_type": "code",
   "execution_count": null,
   "metadata": {
    "vscode": {
     "languageId": "java"
    }
   },
   "outputs": [],
   "source": [
    "// code"
   ]
  },
  {
   "cell_type": "markdown",
   "metadata": {},
   "source": [
    "## Question 2: Iteration over 2D arrays (Unit 4)\n",
    "\n",
    "Situation: You are developing a game where you need to track player scores on a 2D grid representing levels and attempts."
   ]
  },
  {
   "cell_type": "markdown",
   "metadata": {},
   "source": [
    "(a) Explain the concept of iteration over a 2D array in Java. Provide an example scenario where iterating over a 2D array is useful in a programming task.\n",
    "\n"
   ]
  },
  {
   "cell_type": "markdown",
   "metadata": {},
   "source": [
    "(b) You need to implement a method `calculateTotalScore` that takes a 2D array `scores` of integers representing player scores and returns the sum of all the elements in the array. Write the method signature and the method implementation. Include comments to explain your code."
   ]
  },
  {
   "cell_type": "code",
   "execution_count": null,
   "metadata": {
    "vscode": {
     "languageId": "java"
    }
   },
   "outputs": [],
   "source": [
    "// code"
   ]
  },
  {
   "cell_type": "markdown",
   "metadata": {},
   "source": [
    "## Question 3: ArrayList (Unit 6)\n",
    "\n",
    "Situation: You are developing a student management system where you need to store and analyze the grades of students in a class."
   ]
  },
  {
   "cell_type": "markdown",
   "metadata": {},
   "source": [
    "(a) Define an arrayList in Java. Explain its significance and usefulness in programming.\n"
   ]
  },
  {
   "cell_type": "markdown",
   "metadata": {},
   "source": [
    "(b) You need to implement a method `calculateAverageGrade` that takes an array `grades` of integers representing student grades and returns the average of all the elements in the array. Write the method signature and the method implementation. Include comments to explain your code."
   ]
  },
  {
   "cell_type": "code",
   "execution_count": null,
   "metadata": {
    "vscode": {
     "languageId": "java"
    }
   },
   "outputs": [],
   "source": [
    "// code"
   ]
  },
  {
   "cell_type": "markdown",
   "metadata": {},
   "source": [
    "## Question 4: Math Class (Unit 2)\n",
    "\n",
    "Situation: You are developing a scientific calculator application where users need to perform various mathematical operations."
   ]
  },
  {
   "cell_type": "markdown",
   "metadata": {},
   "source": [
    "(a) Discuss the purpose and utility of the Math class in Java programming. Provide examples of at least three methods provided by the Math class and explain their usage.\n"
   ]
  },
  {
   "cell_type": "markdown",
   "metadata": {},
   "source": [
    "(b) You need to implement a method `calculateSquareRoot` that takes a `double` number as input and returns its square root using the Math class. Write the method signature and the method implementation. Include comments to explain your code."
   ]
  },
  {
   "cell_type": "code",
   "execution_count": null,
   "metadata": {
    "vscode": {
     "languageId": "java"
    }
   },
   "outputs": [],
   "source": [
    "// code"
   ]
  },
  {
   "cell_type": "markdown",
   "metadata": {},
   "source": [
    "## Question 5: If, While, Else (Unit 3-4)\n",
    "\n",
    "Situation: You are developing a simple grading system where you need to determine if a given score is passing or failing."
   ]
  },
  {
   "cell_type": "markdown",
   "metadata": {},
   "source": [
    "(a) Explain the roles and usage of the if statement, while loop, and else statement in Java programming. Provide examples illustrating each.\n"
   ]
  },
  {
   "cell_type": "markdown",
   "metadata": {},
   "source": [
    "(b) You need to implement a method `printGradeStatus` that takes an integer `score` as input and prints \"Pass\" if the score is greater than or equal to 60, and \"Fail\" otherwise. Write the method signature and the method implementation. Include comments to explain your code."
   ]
  },
  {
   "cell_type": "code",
   "execution_count": null,
   "metadata": {
    "vscode": {
     "languageId": "java"
    }
   },
   "outputs": [],
   "source": [
    "// code"
   ]
  }
 ],
 "metadata": {
  "kernelspec": {
   "display_name": "Java",
   "language": "java",
   "name": "java"
  },
  "language_info": {
   "codemirror_mode": "java",
   "file_extension": ".jshell",
   "mimetype": "text/x-java-source",
   "name": "Java",
   "pygments_lexer": "java",
   "version": "20.0.2+9-78"
  }
 },
 "nbformat": 4,
 "nbformat_minor": 2
}
