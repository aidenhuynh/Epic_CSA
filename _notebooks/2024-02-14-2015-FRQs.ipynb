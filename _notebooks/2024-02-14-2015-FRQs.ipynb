{
 "cells": [
  {
   "cell_type": "markdown",
   "metadata": {},
   "source": [
    "---\n",
    "title: 2015 FRQs\n",
    "description: Part of final grade for T2 AP CSA\n",
    "toc: true\n",
    "layout: post\n",
    "courses: { csa: {week: '22'} }\n",
    "type: hacks\n",
    "comments: true\n",
    "---"
   ]
  },
  {
   "cell_type": "markdown",
   "metadata": {},
   "source": [
    "## Question 1\n",
    "\n",
    "**Directions:** SHOW ALL YOUR WORK. REMEMBER THAT PROGRAM SEGMENTS ARE TO BE WRITTEN IN JAVA.\n",
    "\n",
    "**Notes:**\n",
    "\n",
    "* Assume that the classes listed in the Java Quick Reference have been imported where appropriate.\n",
    "\n",
    "* Unless otherwise noted in the question, assume that parameters in method calls are not null and that methods are called only when their preconditions are satisfied.\n",
    "\n",
    "* In writing solutions for each question, you may use any of the accessible methods that are listed in classes defined in that question. Writing significant amounts of code that can be replaced by a call to one of these methods will not receive full credit.\n",
    "\n",
    "This question involves reasoning about one-dimensional and two-dimensional arrays of integers. You will write three static methods, all of which are in a single enclosing class, named DiverseArray (not shown). The first method returns the sum of the values of a one-dimensional array; the second method returns an array that represents the sums of the rows of a two-dimensional array; and the third method analyzes row sums.\n",
    "\n",
    "### (a) \n",
    "Write a static method arraySum that calculates and returns the sum of the entries in a specified one-dimensional array. The following example shows an array arr1 and the value returned by a call to arraySum.\n",
    "\n",
    "![table](https://assets.learnosity.com/organisations/537/media.academicmerit.com/59bd0f3381ee56626e07c7828421a1e7/original.jpg)\n",
    "\n",
    "Complete method arraySum below.\n",
    "\n",
    "/ * * Returns the sum of the entries in the one-dimensional array arr.\n",
    "\n",
    "* /\n",
    "\n",
    "public static int arraySum (int [ ] arr)"
   ]
  },
  {
   "cell_type": "code",
   "execution_count": 17,
   "metadata": {
    "vscode": {
     "languageId": "java"
    }
   },
   "outputs": [
    {
     "name": "stdout",
     "output_type": "stream",
     "text": [
      "Sum: 16\n"
     ]
    }
   ],
   "source": [
    "public class partA {\n",
    "    public static int arraySum (int[] arr) {\n",
    "        int sum = 0;\n",
    "\n",
    "        for (int i = 0; i < arr.length; i ++) {\n",
    "            sum += arr[i];\n",
    "        }\n",
    "\n",
    "        return sum;\n",
    "    }\n",
    "\n",
    "    public static void main(String[] args) {\n",
    "        int[] array = {1, 3, 2, 7, 3};\n",
    "        int sum = arraySum(array);\n",
    "        System.out.println(\"Sum: \" + sum);\n",
    "    }\n",
    "}\n",
    "\n",
    "partA.main(null);"
   ]
  },
  {
   "cell_type": "markdown",
   "metadata": {},
   "source": [
    "### (b) \n",
    "Write a static method rowSums that calculates the sums of each of the rows in a given two-dimensional array and returns these sums in a one-dimensional array. The method has one parameter, a two-dimensional array arr2D of int values. The array is in row-major order: arr2D [ r ] [ c ] is the entry at row r and column c. The method returns a one-dimensional array with one entry for each row of arr2D such that each entry is the sum of the corresponding row in arr2D. As a reminder, each row of a two-dimensional array is a one-dimensional array.\n",
    "\n",
    "For example, if mat1 is the array represented by the following table, the call rowSums(mat1) returns the array {16, 32, 28, 20}.\n",
    "\n",
    "![ajfdsl;](https://assets.learnosity.com/organisations/537/media.academicmerit.com/77e7812feb415ae1be1b125b39a99f1b/original.png)\n",
    "\n",
    "![something](https://assets.learnosity.com/organisations/537/media.academicmerit.com/ebd67036cba21345415c462e3ae044aa/original.png)\n",
    "\n",
    "Assume that arraySum works as specified, regardless of what you wrote in part (a). You must use arraySum appropriately to receive full credit.\n",
    "\n",
    "Complete method rowSums below.\n",
    "\n",
    "/ * * Returns a one-dimensional array in which the entry at index k is the sum of\n",
    "\n",
    "* the entries of row k of the two-dimensional array arr2D.\n",
    "\n",
    "* /\n",
    "\n",
    "public static int [ ] rowSums(int [ ] [ ] arr2D)"
   ]
  },
  {
   "cell_type": "code",
   "execution_count": 37,
   "metadata": {
    "vscode": {
     "languageId": "java"
    }
   },
   "outputs": [
    {
     "name": "stdout",
     "output_type": "stream",
     "text": [
      "Sum of each row:\n",
      "[16, 32, 28, 20]\n"
     ]
    }
   ],
   "source": [
    "public class partB {\n",
    "    public static int arraySum(int[] arr) {\n",
    "        int sum = 0;\n",
    "\n",
    "        for (int i = 0; i < arr.length; i ++) {\n",
    "            sum += arr[i];\n",
    "        }\n",
    "\n",
    "        return sum;\n",
    "    }\n",
    "\n",
    "    public static int[] rowSums(int[][] arr2D) {\n",
    "        int rows = arr2D.length;\n",
    "\n",
    "        int[] sums = new int[rows];\n",
    "\n",
    "        for (int r = 0; r < rows; r ++) {\n",
    "            sums[r] = arraySum(arr2D[r]);\n",
    "        }\n",
    "\n",
    "        return sums;\n",
    "    }\n",
    "\n",
    "    public static String arrToString(int[] arr) {\n",
    "        String output = \"[\";\n",
    "\n",
    "        for (int i = 0; i < arr.length; i ++) {\n",
    "            output += Integer.toString(arr[i]);\n",
    "\n",
    "            if (i != arr.length - 1) {\n",
    "                output += \", \";\n",
    "            }\n",
    "        }\n",
    "\n",
    "        output += \"]\";\n",
    "\n",
    "        return output;\n",
    "    }\n",
    "\n",
    "    public static void main(String[] args) {\n",
    "        int[][] arr2D = {\n",
    "            {1, 3, 2, 7, 3},\n",
    "            {10, 10, 4, 6, 2},\n",
    "            {5, 3, 5, 9, 6},\n",
    "            {7, 6, 4, 2, 1}\n",
    "        };\n",
    "\n",
    "        int[] sums = rowSums(arr2D);\n",
    "        \n",
    "        System.out.println(\"Sum of each row:\");\n",
    "        System.out.println(arrToString(sums));\n",
    "    }\n",
    "}\n",
    "\n",
    "partB.main(null);"
   ]
  },
  {
   "cell_type": "markdown",
   "metadata": {},
   "source": [
    "### (c) \n",
    "A two-dimensional array is diverse if no two of its rows have entries that sum to the same value. In the following examples, the array mat1 is diverse because each row sum is different, but the array mat2 is not diverse because the first and last rows have the same sum.\n",
    "\n",
    "![a](https://assets.learnosity.com/organisations/537/media.academicmerit.com/85418ed1df227a5897cc39f2af1fdd4b/original.jpg)\n",
    "\n",
    "Write a static method isDiverse that determines whether or not a given two-dimensional array is diverse. The method has one parameter: a two-dimensional array arr2D of int values. The method should return true if all the row sums in the given array are unique; otherwise, it should return false. In the arrays shown above, the call isDiverse (mat1) returns true and the call isDiverse(mat2) returns false.\n",
    "\n",
    "![a](https://assets.learnosity.com/organisations/537/media.academicmerit.com/a545c0f03432046e6704e7a84efcc921/original.jpg)\n",
    "\n",
    "Assume that arraySum and rowSums work as specified, regardless of what you wrote in parts (a) and(b). You must use rowSums appropriately to receive full credit.\n",
    "Complete method isDiverse below.\n",
    "\n",
    "/ * * Returns true if all rows in arr2D have different row sums;\n",
    "* false otherwise.\n",
    "\n",
    "* /public static boolean isDiverse(int [ ] [ ] arr2D)"
   ]
  },
  {
   "cell_type": "code",
   "execution_count": 49,
   "metadata": {
    "vscode": {
     "languageId": "java"
    }
   },
   "outputs": [
    {
     "name": "stdout",
     "output_type": "stream",
     "text": [
      "Is the first 2D array diverse?\n",
      "Array: [16, 32, 28, 20]\n",
      "Diverse: true\n",
      "\n",
      "Is the second 2D array diverse?\n",
      "Array: [14, 35, 36, 14]\n",
      "Diverse: false\n"
     ]
    }
   ],
   "source": [
    "public class partC {\n",
    "    public static int arraySum(int[] arr) {\n",
    "        int sum = 0;\n",
    "\n",
    "        for (int i = 0; i < arr.length; i ++) {\n",
    "            sum += arr[i];\n",
    "        }\n",
    "\n",
    "        return sum;\n",
    "    }\n",
    "\n",
    "    public static int[] rowSums(int[][] arr2D) {\n",
    "        int rows = arr2D.length;\n",
    "\n",
    "        int[] sums = new int[rows];\n",
    "\n",
    "        for (int r = 0; r < rows; r ++) {\n",
    "            sums[r] = arraySum(arr2D[r]);\n",
    "        }\n",
    "\n",
    "        return sums;\n",
    "    }\n",
    "\n",
    "    public static String arrToString(int[] arr) {\n",
    "        String output = \"[\";\n",
    "\n",
    "        for (int i = 0; i < arr.length; i ++) {\n",
    "            output += Integer.toString(arr[i]);\n",
    "\n",
    "            if (i != arr.length - 1) {\n",
    "                output += \", \";\n",
    "            }\n",
    "        }\n",
    "\n",
    "        output += \"]\";\n",
    "\n",
    "        return output;\n",
    "    }\n",
    "\n",
    "    public static boolean isDiverse(int[][] arr2D) {\n",
    "        int[] sums = rowSums(arr2D);\n",
    "\n",
    "        for (int i = 0; i < sums.length; i ++) {\n",
    "            for (int j = i + 1; j < sums.length; j ++) {\n",
    "                if (sums[i] == sums[j]) {\n",
    "                    return false;\n",
    "                }\n",
    "            }\n",
    "        }\n",
    "\n",
    "        return true;\n",
    "    }\n",
    "\n",
    "    public static void main(String[] args) {\n",
    "        int[][] arr1 = {\n",
    "            {1, 3, 2, 7, 3},\n",
    "            {10, 10, 4, 6, 2},\n",
    "            {5, 3, 5, 9, 6},\n",
    "            {7, 6, 4, 2, 1}\n",
    "        };\n",
    "\n",
    "        int[][] arr2 = {\n",
    "            {1, 1, 5, 3, 4},\n",
    "            {12, 7, 6, 1, 9},\n",
    "            {8, 11, 10, 2, 5},\n",
    "            {3, 2, 3, 0, 6}\n",
    "        };\n",
    "        \n",
    "        System.out.println(\"Is the first 2D array diverse?\");\n",
    "        System.out.println(\"Array: \" + arrToString(rowSums(arr1)));\n",
    "        System.out.println(\"Diverse: \" + isDiverse(arr1));\n",
    "        \n",
    "        System.out.println();\n",
    "\n",
    "        System.out.println(\"Is the second 2D array diverse?\");\n",
    "        System.out.println(\"Array: \" + arrToString(rowSums(arr2)));\n",
    "        System.out.println(\"Diverse: \" + isDiverse(arr2));\n",
    "    }\n",
    "}\n",
    "\n",
    "partC.main(null);"
   ]
  },
  {
   "cell_type": "markdown",
   "metadata": {},
   "source": [
    "### Reflection:\n",
    "\n",
    "Being the first time using Java by itself in a while, I had a couple syntax errors. Need to remember that using `.length` does not have parentheses and other minor stuff like that.\n",
    "\n",
    "In terms of the question itself, it was really easy.\n",
    "\n",
    "The types are as follows:\n",
    "- part a was arrays\n",
    "- part b was 2d arrays\n",
    "- part c is method/control structures"
   ]
  },
  {
   "cell_type": "markdown",
   "metadata": {},
   "source": [
    "## Question 2\n",
    "\n",
    "**Directions:** SHOW ALL YOUR WORK. REMEMBER THAT PROGRAM SEGMENTS ARE TO BE WRITTEN IN JAVA.\n",
    "\n",
    "**Notes:**\n",
    "\n",
    "* Assume that the classes listed in the Java Quick Reference have been imported where appropriate.\n",
    "\n",
    "* Unless otherwise noted in the question, assume that parameters in method calls are not null and that methods are called only when their preconditions are satisfied.\n",
    "\n",
    "* In writing solutions for each question, you may use any of the accessible methods that are listed in classes defined in that question. Writing significant amounts of code that can be replaced by a call to one of these methods will not receive full credit.\n",
    "\n",
    "Consider a guessing game in which a player tries to guess a hidden word. The hidden word contains only capital letters and has a length known to the player. A guess contains only capital letters and has the same length as the hidden word.\n",
    "\n",
    "After a guess is made, the player is given a hint that is based on a comparison between the hidden word and the guess. Each position in the hint contains a character that corresponds to the letter in the same position in the guess. The following rules determine the characters that appear in the hint.\n",
    "\n",
    "![a](https://assets.learnosity.com/organisations/537/media.academicmerit.com/2010bb9c8d8f14bcab30e3636d79b06d/original.jpg)\n",
    "\n",
    "The HiddenWord class will be used to represent the hidden word in the game. The hidden word is passed to the constructor. The class contains a method, getHint, that takes a guess and produces a hint.\n",
    "\n",
    "For example, suppose the variable puzzle is declared as follows.\n",
    "\n",
    "HiddenWord puzzle = new HiddenWord(\"HARPS\");\n",
    "\n",
    "The following table shows several guesses and the hints that would be produced.\n",
    "\n",
    "![a](https://assets.learnosity.com/organisations/537/media.academicmerit.com/ddd155eface263bb31e740680d1b6e17/original.jpg)\n",
    "\n",
    "Write the complete HiddenWord class, including any necessary instance variables, its constructor, and the method, getHint, described above. You may assume that the length of the guess is the same as the length of the hidden word.\n",
    "\n",
    "### Solution:"
   ]
  },
  {
   "cell_type": "code",
   "execution_count": 64,
   "metadata": {
    "vscode": {
     "languageId": "java"
    }
   },
   "outputs": [
    {
     "name": "stdout",
     "output_type": "stream",
     "text": [
      "+A+++\n",
      "H****\n",
      "H*++*\n",
      "HAR*S\n"
     ]
    },
    {
     "name": "stdout",
     "output_type": "stream",
     "text": [
      "HARPS\n"
     ]
    }
   ],
   "source": [
    "public class HiddenWord {\n",
    "    public String secret;\n",
    "\n",
    "    // just public to be used as a constructor\n",
    "    public HiddenWord(String word) {\n",
    "        this.secret = word;\n",
    "    }\n",
    "\n",
    "    public String getHint(String guess) {\n",
    "        String word = this.secret;\n",
    "        String hint = \"\";\n",
    "        int len = word.length();\n",
    "\n",
    "        // Not necessary but I felt like it\n",
    "        if (len != guess.length()) {\n",
    "            return \"Invalid guess\";\n",
    "        }\n",
    "\n",
    "        for (int i = 0; i < len; i ++) {\n",
    "            char guessChar = guess.charAt(i);\n",
    "            char wordChar = word.charAt(i);\n",
    "\n",
    "            if (word.indexOf(guessChar) != -1) {\n",
    "                if (wordChar == guessChar) {\n",
    "                    hint += guessChar;\n",
    "                }\n",
    "\n",
    "                else {\n",
    "                    hint += \"+\";\n",
    "                }\n",
    "            }\n",
    "\n",
    "            else {\n",
    "                hint += \"*\";\n",
    "            }\n",
    "        }\n",
    "\n",
    "        return hint;\n",
    "    }\n",
    "}\n",
    "\n",
    "HiddenWord puzzle = new HiddenWord(\"HARPS\");\n",
    "\n",
    "System.out.println(puzzle.getHint(\"AAAAA\"));\n",
    "System.out.println(puzzle.getHint(\"HELLO\"));\n",
    "System.out.println(puzzle.getHint(\"HEART\"));\n",
    "System.out.println(puzzle.getHint(\"HARMS\"));\n",
    "System.out.println(puzzle.getHint(\"HARPS\"));"
   ]
  },
  {
   "cell_type": "markdown",
   "metadata": {},
   "source": [
    "### Reflection\n",
    "\n",
    "Again, the code itself wasn't hard, just syntax stuff. This time, it was with making a constructor, where I autopiloted and added \"void\" to it, which makes Java treat it as a method instead of a contructor.\n",
    "\n",
    "This one's type was method and control structures. Woo."
   ]
  }
 ],
 "metadata": {
  "kernelspec": {
   "display_name": "Java",
   "language": "java",
   "name": "java"
  },
  "language_info": {
   "codemirror_mode": "java",
   "file_extension": ".jshell",
   "mimetype": "text/x-java-source",
   "name": "Java",
   "pygments_lexer": "java",
   "version": "20.0.2+9-78"
  }
 },
 "nbformat": 4,
 "nbformat_minor": 2
}
