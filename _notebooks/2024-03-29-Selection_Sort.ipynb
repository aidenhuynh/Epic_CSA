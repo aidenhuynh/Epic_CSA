{
 "cells": [
  {
   "cell_type": "markdown",
   "metadata": {},
   "source": [
    "---\n",
    "title: Selection Sort\n",
    "description: She sleect my esort til ismcmm\n",
    "toc: true \n",
    "comments: true \n",
    "layout: post \n",
    "type: hacks \n",
    "courses: { csa: {week: '28'} }\n",
    "---"
   ]
  },
  {
   "cell_type": "code",
   "execution_count": 21,
   "metadata": {
    "vscode": {
     "languageId": "java"
    }
   },
   "outputs": [
    {
     "name": "stdout",
     "output_type": "stream",
     "text": [
      "Unsorted: [1.32, 654.0, 23.0, 543.0, 2.0, 4.0, 45254.0, 324.0, 25.0, 24.0, 234432.0]\n",
      "Sorted: [1.32, 24.0, 654.0, 654.0, 654.0, 654.0, 654.0, 45254.0, 45254.0, 45254.0, 234432.0]\n"
     ]
    }
   ],
   "source": [
    "public class Sort {\n",
    "    public static double[] selection(double[] arr) {      \n",
    "        int len = arr.length;\n",
    "\n",
    "        for (int i = 0; i < len; i ++) {\n",
    "            double min = arr[i];\n",
    "\n",
    "            for (int j = i; j < len; j ++) {\n",
    "                if (arr[j] < min) {\n",
    "                    arr[i] = arr[j];\n",
    "                    arr[j] = min;\n",
    "                }\n",
    "            }\n",
    "        }\n",
    "\n",
    "        return arr;\n",
    "    }\n",
    "\n",
    "    public static String stringifyArr(double[] arr) {\n",
    "        String output = \"[\";\n",
    "        \n",
    "        for (int i = 0; i < arr.length - 1; i ++) {\n",
    "            output += arr[i] + \", \";\n",
    "        }\n",
    "\n",
    "        output += arr[arr.length - 1] + \"]\";\n",
    "\n",
    "        return output;\n",
    "    }\n",
    "\n",
    "    public static void main(String[] args) {\n",
    "        double[] unsorted = {1.32, 654, 23, 543, 2, 4, 45254, 324, 25, 24, 234432};\n",
    "        \n",
    "        System.out.println(\"Unsorted: \" + Sort.stringifyArr(unsorted));\n",
    "\n",
    "        double[] sorted = Sort.selection(unsorted);\n",
    "\n",
    "        System.out.println(\"Sorted: \" + Sort.stringifyArr(sorted));\n",
    "    }\n",
    "}\n",
    "\n",
    "Sort.main(null);"
   ]
  }
 ],
 "metadata": {
  "kernelspec": {
   "display_name": "Java",
   "language": "java",
   "name": "java"
  },
  "language_info": {
   "codemirror_mode": "java",
   "file_extension": ".jshell",
   "mimetype": "text/x-java-source",
   "name": "Java",
   "pygments_lexer": "java",
   "version": "20.0.2+9-78"
  }
 },
 "nbformat": 4,
 "nbformat_minor": 2
}
