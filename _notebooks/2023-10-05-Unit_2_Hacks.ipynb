{
 "cells": [
  {
   "attachments": {},
   "cell_type": "markdown",
   "metadata": {},
   "source": [
    "---\n",
    "toc: true\n",
    "comments: true\n",
    "layout: post\n",
    "title: Unit 2 Hacks\n",
    "description: Hacks for Unit 2\n",
    "courses: { csa: {week: '7'} }\n",
    "type: hacks\n",
    "---"
   ]
  },
  {
   "attachments": {},
   "cell_type": "markdown",
   "metadata": {},
   "source": [
    "## Note:\n",
    "I did two of them without ChatGPT fire emoji\n",
    "\n",
    "## Hack 1: (0.25)\n",
    "Create a void method that takes an integer input and adds it to an ArrayList. Then, add a non-void method that is able to call a certain index from the ArrayList."
   ]
  },
  {
   "cell_type": "code",
   "execution_count": 25,
   "metadata": {
    "vscode": {
     "languageId": "java"
    }
   },
   "outputs": [
    {
     "name": "stdout",
     "output_type": "stream",
     "text": [
      "5\n",
      "10\n"
     ]
    }
   ],
   "source": [
    "public static class IntegerArray {\n",
    "    // length of 10 set\n",
    "    public static int[] arrayList = new int[10];\n",
    "    public static int start = 0;\n",
    "\n",
    "    // all values set to 0 by default, index from starting position to find zeroes\n",
    "    public static void push(int num) {\n",
    "        for (int i = start; i < arrayList.length; i ++) {\n",
    "            // first auto-generated zero overwritten with num\n",
    "            if (arrayList[i] == 0) {\n",
    "                arrayList[i] = num;\n",
    "                // add to start to prevent overwritting old values\n",
    "                start = i;\n",
    "                break;\n",
    "            };\n",
    "        };\n",
    "    }\n",
    "\n",
    "    // bruh\n",
    "    public static int index(int i) {\n",
    "        return arrayList[i];\n",
    "    }\n",
    "}\n",
    "\n",
    "IntegerArray test = new IntegerArray();\n",
    "// add 5 and 10, then print indexes 0 and 1\n",
    "test.push(5);\n",
    "test.push(10);\n",
    "System.out.println(test.index(0));\n",
    "System.out.println(test.index(1));\n",
    "\n",
    "// this is some of the worst code ive written god i hate java"
   ]
  },
  {
   "cell_type": "markdown",
   "metadata": {},
   "source": [
    "## Hack 2: (0.25)\n",
    "Create a simple guessing game with random numbers in math, except the random number is taken to a random exponent (also includes roots), and the person has to find out what the root and exponent is (with hints!). Use at least one static and one non-static method in your class."
   ]
  },
  {
   "cell_type": "code",
   "execution_count": null,
   "metadata": {
    "vscode": {
     "languageId": "java"
    }
   },
   "outputs": [],
   "source": [
    "// \"Each team will give a 10 minute lesson and assign **30 minutes** of homework to introduce their unit.\""
   ]
  },
  {
   "attachments": {},
   "cell_type": "markdown",
   "metadata": {},
   "source": [
    "## Hack 3: (0.25)\n",
    "Create a class of your choosing that has multiple parameters of different types (int, boolean, String, double) and put 5 data values in that list. Show that you can access the information by givng some samples."
   ]
  },
  {
   "cell_type": "code",
   "execution_count": null,
   "metadata": {
    "vscode": {
     "languageId": "java"
    }
   },
   "outputs": [],
   "source": [
    "// literally what is this question even asking"
   ]
  },
  {
   "attachments": {},
   "cell_type": "markdown",
   "metadata": {},
   "source": [
    "## Hack 4: (0.25)\n",
    "Using your preliminary knowlege of loops, use a for loop to iterate through a person's first and last name, seperated by a space, and create methods to call a person's first name and a person's last name by iterating through the string."
   ]
  },
  {
   "cell_type": "code",
   "execution_count": 48,
   "metadata": {
    "vscode": {
     "languageId": "java"
    }
   },
   "outputs": [
    {
     "name": "stdout",
     "output_type": "stream",
     "text": [
      "aiden\n",
      "huynh\n"
     ]
    }
   ],
   "source": [
    "public static class Name {\n",
    "    public String first(String name) {\n",
    "        int i = name.indexOf(\" \");\n",
    "        return name.substring(0, i);\n",
    "    }\n",
    "\n",
    "    public String last(String name) {\n",
    "        int i = name.indexOf(\" \");\n",
    "        return name.substring(i + 1);\n",
    "    }\n",
    "}\n",
    "\n",
    "Name test = new Name();\n",
    "System.out.println(test.first(\"aiden huynh\"));\n",
    "System.out.println(test.last(\"aiden huynh\"));"
   ]
  }
 ],
 "metadata": {
  "kernelspec": {
   "display_name": "Java",
   "language": "java",
   "name": "java"
  },
  "language_info": {
   "codemirror_mode": "java",
   "file_extension": ".jshell",
   "mimetype": "text/x-java-source",
   "name": "Java",
   "pygments_lexer": "java",
   "version": "20.0.2+9-78"
  },
  "orig_nbformat": 4
 },
 "nbformat": 4,
 "nbformat_minor": 2
}
