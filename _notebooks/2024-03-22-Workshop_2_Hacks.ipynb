{
 "cells": [
  {
   "cell_type": "markdown",
   "metadata": {},
   "source": [
    "---\n",
    "title: Workshop 2 Hacks\n",
    "description: Classes Workshop Hacks\n",
    "toc: true\n",
    "layout: post\n",
    "courses: { csa: {week: '28'} }\n",
    "type: hacks\n",
    "comments: true\n",
    "---"
   ]
  },
  {
   "cell_type": "markdown",
   "metadata": {},
   "source": [
    "# Free Response Questions\n",
    "\n",
    "## Question 1 - Pojos and Access Control:\n",
    "Situation: The school librarian wants to create a program that stores all of the books within the library in a database and is used to manage their inventory of books available to the students. You decided to put your amazing code skills to work and help out the librarian!\n",
    "\n",
    "a. Describe the key differences between the private and public access controllers and how it affects a POJO\n",
    "\n",
    "Public can be accessed within and outside ofa class, but private can only be used within a class. I think of this similarly to \"let\" in javascript or defining variables within functions.\n",
    "\n",
    "b. Identify a scenario when you would use the private vs. public access controllers that isn't the one given in the scenario above\n",
    "\n",
    "You could use public when you need to access methods from another object within an object, such as using a Math functions object with methods for different calculations that would be useful within a different object. Private would be used for methods that are specific to the class, such as in calculating and setting DOB.\n",
    "\n",
    "c. Create a Book class that represents the following attributes about a book: title, author, date published, person holding the book and make sure that the objects are using a POJO, the proper getters and setters and are secure from any other modifications that the program makes later to the objects"
   ]
  },
  {
   "cell_type": "code",
   "execution_count": 8,
   "metadata": {
    "vscode": {
     "languageId": "java"
    }
   },
   "outputs": [
    {
     "name": "stdout",
     "output_type": "stream",
     "text": [
      "Aiden Huynh\n"
     ]
    },
    {
     "name": "stdout",
     "output_type": "stream",
     "text": [
      "John Mortensen\n"
     ]
    }
   ],
   "source": [
    "public class Book {\n",
    "    String title;\n",
    "    String author;\n",
    "    String date;\n",
    "    String holder;\n",
    "\n",
    "    // constructor\n",
    "    public Book(String title, String author, String date, String holder) {\n",
    "        this.title = title;\n",
    "        this.author = author;\n",
    "        this.date = date;\n",
    "        this.holder = holder;\n",
    "    }\n",
    "\n",
    "    // title getter\n",
    "    public String getTitle() {\n",
    "        return this.title;\n",
    "    }\n",
    "\n",
    "    // title setter\n",
    "    public void setTitle(String title) {\n",
    "        this.title = title;\n",
    "    }\n",
    "\n",
    "    // author getter\n",
    "    public String getAuthor() {\n",
    "        return this.author;\n",
    "    }\n",
    "\n",
    "    // author setter\n",
    "    public void setAuthor(String author) {\n",
    "        this.author = author;\n",
    "    }\n",
    "\n",
    "    // date getter\n",
    "    public String getDate() {\n",
    "        return this.date;\n",
    "    }\n",
    "\n",
    "    // date setter\n",
    "    public void setDate(String date) {\n",
    "        this.date = date;\n",
    "    }\n",
    "\n",
    "    // holder getter\n",
    "    public String getHolder() {\n",
    "        return this.holder;\n",
    "    }\n",
    "\n",
    "    // holder setter\n",
    "    public void setHolder(String holder) {\n",
    "        this.holder = holder;\n",
    "    }\n",
    "}\n",
    "\n",
    "// Tests\n",
    "Book gatsby = new Book(\"The Great Gatsby\", \"F. Scott Fitzgerald\", \"1920s or something lol\", \"Aiden Huynh\");\n",
    "\n",
    "// show getter working\n",
    "System.out.println(gatsby.getHolder()); // expected output \"Aiden Huynh\"\n",
    "\n",
    "// change and get to show setter working\n",
    "gatsby.setHolder(\"John Mortensen\");\n",
    "System.out.println(gatsby.getHolder()); // expected output \"John Mortensen\""
   ]
  },
  {
   "cell_type": "markdown",
   "metadata": {},
   "source": [
    "## Question 2 - Writing Classes:\n",
    "\n",
    "(a) Describe the different features needed to create a class and what their purpose is.\n",
    "\n",
    "- Attributes are variables/data tied to a class\n",
    "- Methods are functions within a class\n",
    "\n",
    "(b) Code:\n",
    "\n",
    "Create a Java class BankAccount to represent a simple bank account. This class should have the following attributes:\n",
    "- accountHolder (String): The name of the account holder.\n",
    "balance (double): The current balance in the account.\n",
    "Implement the following mutator (setter) methods for the BankAccount class:\n",
    "- setAccountHolder(String name): Sets the name of the account holder.\n",
    "- deposit(double amount): Deposits a given amount into the account.\n",
    "- withdraw(double amount): Withdraws a given amount from the account, but only if the withdrawal amount is less than or equal to the current balance.\n",
    "Ensure that the balance is never negative."
   ]
  },
  {
   "cell_type": "code",
   "execution_count": 14,
   "metadata": {
    "vscode": {
     "languageId": "java"
    }
   },
   "outputs": [
    {
     "name": "stdout",
     "output_type": "stream",
     "text": [
      "Initial balance:\n",
      "1.0\n",
      "\n",
      "After deposit balance:\n",
      "1000001.0\n",
      "\n",
      "After withdraw balance:\n",
      "2.0\n",
      "\n",
      "Withdraw that would be negative:\n",
      "2.0\n",
      "\n",
      "Depositing a negative:\n",
      "2.0\n"
     ]
    }
   ],
   "source": [
    "public class BankAccount {\n",
    "    // Define variables\n",
    "    String accountHolder;\n",
    "    double balance;\n",
    "\n",
    "    // Constructor with accountHolder and balance\n",
    "    public BankAccount(String accountHolder, double balance) {\n",
    "        this.accountHolder = accountHolder;\n",
    "        this.balance = balance;\n",
    "    }\n",
    "\n",
    "    // Basic setters and getters for account holder\n",
    "    public void setAccountHolder(String accountHolder) {\n",
    "        this.accountHolder = accountHolder;\n",
    "    }\n",
    "\n",
    "    // Getter for account holder\n",
    "    public String getAccountHolder() {\n",
    "        return this.accountHolder;\n",
    "    }\n",
    "\n",
    "    // Getter for balance\n",
    "    public double getBalance() {\n",
    "        return this.balance;\n",
    "    }\n",
    "\n",
    "    public void deposit(double amount) {\n",
    "        // stop if trying to deposit a negative amount\n",
    "        if (amount < 0) {\n",
    "            return;\n",
    "        }\n",
    "\n",
    "        // otherwise add to balance\n",
    "        this.balance += amount;\n",
    "    }\n",
    "\n",
    "    public void withdraw(double amount) {\n",
    "        double total = this.balance - amount;\n",
    "\n",
    "        // If the total would be negative, stop\n",
    "        if (total < 0) {\n",
    "            return;\n",
    "        }\n",
    "\n",
    "        // otherwise set new balance\n",
    "        this.balance = total;\n",
    "    }\n",
    "}\n",
    "\n",
    "// Make a test account\n",
    "BankAccount test = new BankAccount(\"Aiden Huynh\", 1.00);\n",
    "\n",
    "// Get current balance before changes\n",
    "System.out.println(\"Initial balance:\\n\" + test.getBalance());\n",
    "\n",
    "// Add 1,000,000 dollars cuz im RICH\n",
    "test.deposit(1000000);\n",
    "\n",
    "// Money moves $$$$$\n",
    "System.out.println(\"\\nAfter deposit balance:\\n\" + test.getBalance());\n",
    "\n",
    "// Oh no! I have been fined for littering on a public road\n",
    "test.withdraw(999999);\n",
    "\n",
    "// :(\n",
    "System.out.println(\"\\nAfter withdraw balance:\\n\" + test.getBalance());\n",
    "\n",
    "// I don't have any more money to take! I am going into severe debt!\n",
    "test.withdraw(100);\n",
    "System.out.println(\"\\nWithdraw that would be negative:\\n\" + test.getBalance());\n",
    "\n",
    "// for fun, negative adding\n",
    "test.deposit(-100);\n",
    "System.out.println(\"\\nDepositing a negative:\\n\" + test.getBalance());\n"
   ]
  },
  {
   "cell_type": "markdown",
   "metadata": {},
   "source": [
    "## Question 3 - Instantiation of a Class\n",
    "\n",
    "(a) Explain how a constructor works, including when it runs and what generally is done within a constructor.\n",
    "\n",
    "A constructor defines variables for an object by taking parameters and tying them to the object using ``this``.\n",
    "\n",
    "(b) Create an example of an overloaded constructor within a class. You must use at least three variables. Include the correct initialization of variables and correct headers for the constructor. Then, run the constructor at least twice with different variables and demonstrate that these two objects called different constructors. (?)"
   ]
  },
  {
   "cell_type": "code",
   "execution_count": 24,
   "metadata": {
    "vscode": {
     "languageId": "java"
    }
   },
   "outputs": [
    {
     "name": "stdout",
     "output_type": "stream",
     "text": [
      "First Test:\n",
      "msg: Hello!\n",
      "num: 100\n",
      "bool: true\n",
      "\n",
      "Second Test:\n",
      "msg: No arguments!\n",
      "num: 0\n",
      "bool: false\n"
     ]
    }
   ],
   "source": [
    "public class ConstructorTest {\n",
    "    public String msg;\n",
    "    public int num;\n",
    "    public boolean bool;\n",
    "    \n",
    "    public ConstructorTest(String msg, int num, boolean bool) {\n",
    "        this.msg = msg;\n",
    "        this.num = num;\n",
    "        this.bool = bool;\n",
    "    }\n",
    "\n",
    "    public ConstructorTest() {\n",
    "        this.msg = \"No arguments!\";\n",
    "        this.num = 0;\n",
    "        this.bool = false;\n",
    "    }\n",
    "\n",
    "    public void printData() {\n",
    "        System.out.println(\"msg: \" + this.msg);\n",
    "        System.out.println(\"num: \" + this.num);\n",
    "        System.out.println(\"bool: \" + this.bool);\n",
    "    }\n",
    "\n",
    "    public static void main(String[] args) {\n",
    "        // First constructor\n",
    "        ConstructorTest firstTest = new ConstructorTest(\"Hello!\", 100, true);\n",
    "        System.out.println(\"First Test:\");\n",
    "        firstTest.printData();\n",
    "\n",
    "        // Second constructor\n",
    "        ConstructorTest secondTest = new ConstructorTest();\n",
    "        System.out.println(\"\\nSecond Test:\");\n",
    "        secondTest.printData();\n",
    "    }\n",
    "}\n",
    "\n",
    "ConstructorTest.main(null);"
   ]
  },
  {
   "cell_type": "markdown",
   "metadata": {},
   "source": [
    "## Question 4 - Wrapper Classes:\n",
    "\n",
    "(a) Provide a brief summary of what a wrapper class is and provide a small code block showing a basic example of a wrapper class.\n",
    "\n",
    "A wrapper class is a class that contains primitive data types. I'm not doing a small code block because that's literally the next question.\n",
    "\n",
    "(b) Create a Java wrapper class called Temperature to represent temperatures in Celsius. Your Temperature class should have the following features:\n",
    "\n",
    "Fields:\n",
    "\n",
    "A private double field to store the temperature value in Celsius.\n",
    "\n",
    "\n",
    "Constructor:\n",
    "\n",
    "A constructor that takes a double value representing the temperature in Celsius and initializes the field.\n",
    "\n",
    "\n",
    "Methods:\n",
    "\n",
    "getTemperature(): A method that returns the temperature value in Celsius.\n",
    "setTemperature(double value): A method that sets a new temperature value in Celsius.\n",
    "toFahrenheit(): A method that converts the temperature from Celsius to Fahrenheit and returns the result as a double value. "
   ]
  },
  {
   "cell_type": "code",
   "execution_count": 39,
   "metadata": {
    "vscode": {
     "languageId": "java"
    }
   },
   "outputs": [
    {
     "name": "stdout",
     "output_type": "stream",
     "text": [
      "100.0\n",
      "120.0\n",
      "248.0\n"
     ]
    }
   ],
   "source": [
    "// Wrapper class wrapping primitive data type double wrapper wrapping\n",
    "public class Temperature {\n",
    "    // Define celsius value\n",
    "    double celsius;\n",
    "\n",
    "    // Constructor to set celsius\n",
    "    public Temperature(double celsius) {\n",
    "        this.celsius = celsius;\n",
    "    }\n",
    "\n",
    "    // getter\n",
    "    public double getTemperature() {\n",
    "        return this.celsius;\n",
    "    }\n",
    "\n",
    "    // setter\n",
    "    public void setTemperature(double celsius) {\n",
    "        this.celsius = celsius;\n",
    "    }\n",
    "\n",
    "    // conversion method\n",
    "    public double toFahrenheit() {\n",
    "        return (this.celsius * 9/5) + 32;\n",
    "    }\n",
    "}\n",
    "\n",
    "Temperature test = new Temperature(100);\n",
    "// Before setter\n",
    "System.out.println(test.getTemperature());\n",
    "\n",
    "// Setter\n",
    "test.setTemperature(120);\n",
    "System.out.println(test.getTemperature());\n",
    "\n",
    "// Converter\n",
    "System.out.println(test.toFahrenheit());"
   ]
  },
  {
   "cell_type": "markdown",
   "metadata": {},
   "source": [
    "## Question 5 - Inheritance:\n",
    "\n",
    "Situation: You are developing a program to manage a zoo, where various types of animals are kept in different enclosures. To streamline your code, you decide to use inheritance to model the relationships between different types of animals and their behaviors.\n",
    "\n",
    "(a) Explain the concept of inheritance in Java. Provide an example scenario where inheritance is useful.\n",
    "\n",
    "(b) Code:\n",
    "\n",
    "You need to implement a Java class hierarchy to represent different types of animals in the zoo. Create a superclass Animal with basic attributes and methods common to all animals, and at least three subclasses representing specific types of animals with additional attributes and methods. Include comments to explain your code, specifically how inheritance is used.\n",
    "> I'm not doing three animals there is no point\n"
   ]
  },
  {
   "cell_type": "code",
   "execution_count": 36,
   "metadata": {
    "vscode": {
     "languageId": "java"
    }
   },
   "outputs": [
    {
     "data": {
      "text/plain": [
       "chirp"
      ]
     },
     "execution_count": 36,
     "metadata": {},
     "output_type": "execute_result"
    }
   ],
   "source": [
    "public class Animal {\n",
    "    // The only thing that all animals have in common are names and sounds (real fact I swear)\n",
    "    String name;\n",
    "    String sound;\n",
    "\n",
    "    // basic constructor\n",
    "    public Animal(String name, String sound) {\n",
    "        this.name = name;\n",
    "        this.sound = sound;\n",
    "    }\n",
    "\n",
    "    // getters for fun idk\n",
    "    public String getName() {\n",
    "        return this.name;\n",
    "    }\n",
    "\n",
    "    public String getSound() {\n",
    "        return this.sound;\n",
    "    }\n",
    "}\n",
    "\n",
    "public class Bird extends Animal {\n",
    "    // Wingspan is specific to birds because they have wings (cool!)\n",
    "    int wingspan;\n",
    "\n",
    "    public Bird(String name, String sound, int wingspan) {\n",
    "        super(name, sound); // Inherit Animal constructor\n",
    "        this.wingspan = wingspan; // for Bird class\n",
    "    }\n",
    "\n",
    "    // bird-specific wingspan getter\n",
    "    public int getWingspan() {\n",
    "        return this.wingspan;\n",
    "    }\n",
    "\n",
    "    // Overriding sound because birds can only chirp (fact)\n",
    "    @Override\n",
    "    public String getSound() {\n",
    "        return \"chirp\";\n",
    "    }\n",
    "}\n",
    "\n",
    "// Override example\n",
    "Animal parrot = new Bird(\"Parrot\", \"gqwphuufl;jglll;;;\", 1000);\n",
    "parrot.getSound();"
   ]
  }
 ],
 "metadata": {
  "kernelspec": {
   "display_name": "Java",
   "language": "java",
   "name": "java"
  },
  "language_info": {
   "codemirror_mode": "java",
   "file_extension": ".jshell",
   "mimetype": "text/x-java-source",
   "name": "Java",
   "pygments_lexer": "java",
   "version": "20.0.2+9-78"
  }
 },
 "nbformat": 4,
 "nbformat_minor": 2
}
