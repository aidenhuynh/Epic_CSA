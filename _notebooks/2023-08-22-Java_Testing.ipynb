{
 "cells": [
  {
   "attachments": {},
   "cell_type": "markdown",
   "metadata": {},
   "source": [
    "---\n",
    "toc: true\n",
    "comments: true\n",
    "layout: post\n",
    "title: Java Testing\n",
    "description: Trying out Java with Hello World\n",
    "type: hacks\n",
    "---"
   ]
  },
  {
   "attachments": {},
   "cell_type": "markdown",
   "metadata": {},
   "source": [
    "## Hello World (Adapted Mort Version)"
   ]
  },
  {
   "cell_type": "code",
   "execution_count": 15,
   "metadata": {
    "vscode": {
     "languageId": "java"
    }
   },
   "outputs": [
    {
     "name": "stdout",
     "output_type": "stream",
     "text": [
      "Sample text\n"
     ]
    }
   ],
   "source": [
    "// Define 'BruhObject' Object\n",
    "public class BruhObject {\n",
    "    // Create a String variable, 'bruh'\n",
    "    private String bruh;\n",
    "\n",
    "    // Construct bruh\n",
    "    public BruhObject() {\n",
    "        bruh = \"Sample text\";\n",
    "    }\n",
    "\n",
    "    // Method to return the 'bruh' variable\n",
    "    public String getBruh() {\n",
    "        return this.bruh;\n",
    "    }\n",
    "\n",
    "    // Method that prints 'bruh' variable\n",
    "    public static void main(String[] args) { // Uses void because it does not return anything, but rather prints\n",
    "        BruhObject test = new BruhObject();\n",
    "        System.out.println(test.getBruh());\n",
    "    }\n",
    "}\n",
    "\n",
    "BruhObject.main(null);"
   ]
  },
  {
   "attachments": {},
   "cell_type": "markdown",
   "metadata": {},
   "source": [
    "## Hello World (Aiden Version)"
   ]
  },
  {
   "cell_type": "code",
   "execution_count": 16,
   "metadata": {
    "vscode": {
     "languageId": "java"
    }
   },
   "outputs": [
    {
     "name": "stdout",
     "output_type": "stream",
     "text": [
      "test\n"
     ]
    }
   ],
   "source": [
    "System.out.println(\"test\")"
   ]
  },
  {
   "attachments": {},
   "cell_type": "markdown",
   "metadata": {},
   "source": [
    "## Simple Coinflip Object"
   ]
  },
  {
   "cell_type": "code",
   "execution_count": 124,
   "metadata": {
    "vscode": {
     "languageId": "java"
    }
   },
   "outputs": [
    {
     "name": "stdout",
     "output_type": "stream",
     "text": [
      "\n",
      "Flips:\n",
      "heads\n",
      "tails\n",
      "heads\n",
      "tails\n",
      "heads\n",
      "heads\n",
      "tails\n",
      "heads\n",
      "tails\n",
      "tails\n",
      "\n",
      "Percentages:\n",
      "Heads: 50.0%\n",
      "Tails: 50.0%\n",
      "Sides: 0.0%\n"
     ]
    }
   ],
   "source": [
    "import java.lang.Math;\n",
    "\n",
    "public class coin {\n",
    "    // Define variables for which side the coin is on, and counters for each\n",
    "    private String face;\n",
    "    private int headCount;\n",
    "    private int tailCount;\n",
    "    private int sideCount;\n",
    "\n",
    "    // Constructor\n",
    "    public coin() {\n",
    "        face = \"\";\n",
    "        headCount = 0;\n",
    "        tailCount = 0;\n",
    "        sideCount = 0;\n",
    "    }\n",
    "\n",
    "    // Flip method\n",
    "    public String flip() {\n",
    "        // Get random double from 0 to 1\n",
    "        double roll = Math.random();\n",
    "\n",
    "        // Determine heads, tails, or neither, with even odds on heads and tails, then add count.\n",
    "        if (roll > 0.5) {\n",
    "            face = \"heads\";\n",
    "            headCount += 1;\n",
    "        }\n",
    "\n",
    "        else if (roll < 0.5){\n",
    "            face = \"tails\";\n",
    "            tailCount += 1;\n",
    "        }\n",
    "\n",
    "        else {\n",
    "            face = \"neither!\";\n",
    "            sideCount += 1;\n",
    "        }\n",
    "\n",
    "        return face;\n",
    "    }\n",
    "\n",
    "    // Method that calculates percent of flips that resulted in a side\n",
    "    public String calculatePercent(float num, float occurrences) {\n",
    "        return 100 * (occurrences / num) + \"%\";\n",
    "    }\n",
    "\n",
    "    // Main method\n",
    "    public void multiFlip(int num) {\n",
    "    System.out.println(\"\\nFlips:\");\n",
    "\n",
    "        // For lop to flip as many times as inputted\n",
    "        for (int i = 0; i < num; i++) {\n",
    "            System.out.println(this.flip());\n",
    "        }\n",
    "\n",
    "        System.out.println(\"\\nPercentages:\");\n",
    "        System.out.println(\"Heads: \" + this.calculatePercent(num, headCount));\n",
    "        System.out.println(\"Tails: \" + this.calculatePercent(num, tailCount));\n",
    "        System.out.println(\"Sides: \" + this.calculatePercent(num, sideCount));\n",
    "\n",
    "    }\n",
    "}\n",
    "\n",
    "// Change this to determine flips.\n",
    "public int flips = 10;\n",
    "\n",
    "coin quarter = new coin();\n",
    "\n",
    "quarter.multiFlip(flips);"
   ]
  }
 ],
 "metadata": {
  "kernelspec": {
   "display_name": "Java",
   "language": "java",
   "name": "java"
  },
  "language_info": {
   "codemirror_mode": "java",
   "file_extension": ".jshell",
   "mimetype": "text/x-java-source",
   "name": "Java",
   "pygments_lexer": "java",
   "version": "20.0.2+9-78"
  },
  "orig_nbformat": 4
 },
 "nbformat": 4,
 "nbformat_minor": 2
}
