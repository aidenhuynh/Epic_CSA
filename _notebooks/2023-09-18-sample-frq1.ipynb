{
 "cells": [
  {
   "attachments": {},
   "cell_type": "markdown",
   "metadata": {},
   "source": [
    "---\n",
    "comments: true\n",
    "layout: post\n",
    "title: Sample FRQ\n",
    "description: Doing one of the sample frq's.\n",
    "---"
   ]
  },
  {
   "cell_type": "markdown",
   "metadata": {},
   "source": [
    "## Initial Question\n",
    "This question involves a two-dimensional array of integers that represents a collection of randomly generated data. A partial declaration of the Data class is shown. You will write two methods of the Data class.\n"
   ]
  },
  {
   "cell_type": "code",
   "execution_count": null,
   "metadata": {
    "vscode": {
     "languageId": "java"
    }
   },
   "outputs": [],
   "source": [
    "public class Data {\n",
    "    public static final int MAX = /* value not shown */;\n",
    "    private int[][] grid;\n",
    "    /** Fills all elements of \"grid\" with randomly generted values, as described in part a\n",
    "     * Precondition: :\"grid\" is not null\n",
    "     * \"grid\" had at least one element\n",
    "     */\n",
    "    public void repopulate(){\n",
    "        /* to be implemented in part a */\n",
    "    }\n",
    "    /** Returns the number of columns in \"grid\" that are in increasing order, as described\n",
    "     * in part b\n",
    "     * Precondition: \"grid\" is not null\n",
    "     * \"grid\" has at least one element\n",
    "     */\n",
    "    public int countIncreasingCols(){\n",
    "        /* to be implemented in part b */\n",
    "    }\n",
    "    // there may be instances variables, constructors, and methods not shown.\n",
    "}\n",
    "\n"
   ]
  },
  {
   "cell_type": "markdown",
   "metadata": {},
   "source": [
    "### Part A\n",
    "Write the repopulate method, which assigns a newly generated random value to each element of grid. Each value is computed to meet all of the following criteria, and all valid values must have an equal chance of being generated.\n",
    "- The value is between 1 and MAX, inclusive. \n",
    "- The value is divisible by 10. \n",
    "- The value is not divisible by 100. Complete the repopulate method\n",
    "### Part B\n",
    "- Write the countIncreasingCols method, which returns the number of columns in grid that are in increasing order. A column is considered to be in increasing order if the element in each row after the first row is greater than or equal to the element in the previous row. A column with only one row is considered to be in increasing order. The following examples show the countIncreasingCols return values for possible contents of grid. The return value for the following contents of grid is 1, since the first column is in increasing order but the second and third columns are not."
   ]
  },
  {
   "cell_type": "markdown",
   "metadata": {},
   "source": [
    "## Answer\n",
    "- The first thing I see is the \"grid\" variable being assigned to a 2D integer list\n",
    "- generate random values --> import java.util.Random;\n",
    "    - Random rand = new Random(); int randomNum = rand.nextInt(max – min + 1) + min;"
   ]
  },
  {
   "cell_type": "code",
   "execution_count": 9,
   "metadata": {
    "vscode": {
     "languageId": "java"
    }
   },
   "outputs": [
    {
     "name": "stdout",
     "output_type": "stream",
     "text": [
      "70 50 80 \n",
      "70 60 90 \n",
      "30 60 40 \n",
      "1\n"
     ]
    }
   ],
   "source": [
    "import java.util.Random; // The code asks for a random number to be genrated. so I use hte Random class. Can also use Math.random()\n",
    "\n",
    "public class Data { // initializing the class \n",
    "    public static final int MAX = 100; // set to 100 for better understanding\n",
    "    private int[][] grid; // \n",
    "    public void repopulate(int rows, int columns){ // added two variables. These variables decide how many rows and columns the grid will have\n",
    "        this.grid = new int[rows][columns]; // as the grid is a privae variable of the class, have to use \"this.grid\" when calling it\n",
    "        int max = this.MAX; // initalizing a class variable to a method variable for easier use\n",
    "        int min = 1;\n",
    "        Random rand = new Random(); // creating a new object from the Random class to get random ints\n",
    "        /*\n",
    "         * Iterating through the grid length to get the rows\n",
    "         * then iterating through the the 2D array to get the columns (numbers)\n",
    "         * Getting a random int that is divisible by 10 but not by 100\n",
    "         * assigning that int to the position of hte respective row and column\n",
    "         */\n",
    "        for (int i = 0; i < this.grid.length; i++){ \n",
    "            for (int j = 0; j < this.grid[i].length; j++){\n",
    "                int num = 0;\n",
    "                while (!(num >= min && num <= max && num % 10 == 0 && num % 100 != 0)){\n",
    "                    num = rand.nextInt(max - min + 1) + min;\n",
    "                }\n",
    "                this.grid[i][j] = num;\n",
    "            }\n",
    "        }\n",
    "        \n",
    "    }\n",
    "    // Contructor for the Class. When a new class is created with an object, this is the first function called\n",
    "    public Data(int rows, int columns){\n",
    "        this.repopulate(rows, columns);\n",
    "    }\n",
    "\n",
    "    /*\n",
    "     * Calculating if the values are in increasing order for any of these columns. \n",
    "     * Iterates through each row and then checks if the row before in the same column had a smaller number or not\n",
    "     * return 0 if none and otherwise number of columns with the increasing order\n",
    "     */\n",
    "    public int countIncreasingCols(){\n",
    "        /* to be implemented in part b */\n",
    "        int count = 0;\n",
    "        for (int col = 0; col < this.grid[0].length; col ++){\n",
    "            boolean Ascending = true;\n",
    "            for (int row = 1; row < this.grid.length; row ++){\n",
    "             if(this.grid[row][col] < grid[row -1][col]){\n",
    "                Ascending = false;\n",
    "             }   \n",
    "            }\n",
    "            if (Ascending){\n",
    "                count ++;\n",
    "            }\n",
    "        }\n",
    "        return count;\n",
    "    }\n",
    "\n",
    "    // Getter method to display the output\n",
    "    public int[][] getter(){\n",
    "        return this.grid;\n",
    "    }\n",
    "\n",
    "    // This is here to show the output on to a terminal in jupyter. Not needed to answer the question or part of the answer.\n",
    "    public static void main(String[] args){\n",
    "        Data new_obj = new Data(3, 3);\n",
    "\n",
    "        int[][] grid = new_obj.getter();\n",
    "        int max = Data.MAX;\n",
    "        int min = 1;\n",
    "        Random rand = new Random();\n",
    "        for (int i = 0; i < grid.length; i++){\n",
    "            for (int j = 0; j < grid[i].length; j++){\n",
    "                System.out.print(grid[i][j] + \" \");\n",
    "            }\n",
    "            System.out.println();\n",
    "        }\n",
    "        int increasing_cols = new_obj.countIncreasingCols();\n",
    "        System.out.println(increasing_cols);\n",
    "    }\n",
    "}\n",
    "\n",
    "Data.main(null)"
   ]
  },
  {
   "cell_type": "markdown",
   "metadata": {},
   "source": [
    "## Detailed Summary\n",
    "\n",
    "- `import java.util.Random;`: The code begins by importing the `Random` class from the `java.util` package. This class will be used to generate random numbers.\n",
    "\n",
    "- `public class Data { ... }`: The `Data` class is defined. It encapsulates functionality related to a 2D grid of integers. The class includes the following components:\n",
    "\n",
    "  - `public static final int MAX = 100;`: A constant integer named `MAX` is declared with a value of `100`. This constant is marked as `static` and `final`, making it a class-level constant that cannot be changed.\n",
    "\n",
    "  - `private int[][] grid;`: An instance variable `grid` is declared as a 2D array of integers. This variable is private, meaning it can only be accessed within the class.\n",
    "\n",
    "  - `public void repopulate(int rows, int columns) { ... }`: This method is responsible for filling the `grid` with random numbers that meet specific criteria. It takes `rows` and `columns` as arguments to determine the size of the grid.\n",
    "\n",
    "  - `public Data(int rows, int columns) { ... }`: The constructor of the class. It initializes a new `Data` object by calling the `repopulate` method.\n",
    "\n",
    "  - `public int countIncreasingCols() { ... }`: This method calculates the number of columns in `grid` that have values in increasing order. It iterates through each column and checks if the values in the column are in ascending order.\n",
    "\n",
    "  - `public int[][] getter() { ... }`: A getter method that allows external classes to access the `grid`.\n",
    "\n",
    "  - `public static void main(String[] args) { ... }`: The main method is defined. It serves as a test harness for the `Data` class. It creates a new `Data` object, prints out the grid, and counts the number of increasing columns.\n",
    "\n",
    "  - `Data.main(null)`: A call to the `main` method, which starts the execution of the program.\n",
    "\n",
    "Overall, this Java code defines a class (`Data`) for managing a 2D grid of integers. It provides methods for populating the grid with random numbers, counting the number of increasing columns, and retrieving the grid itself. The `main` method serves as a test harness for the class.\n"
   ]
  },
  {
   "cell_type": "markdown",
   "metadata": {},
   "source": [
    "## Grading:\n",
    "|Criteria|Score| Reason |\n",
    "|-|-|-|\n",
    "|Traverses grid (no bounds errors) | 1| uses `this.grid`|\n",
    "|Generates a random integer in a range based on MAX. assume or verify that MAX >=  10 | 1 | assumes `MAX` as 100 |\n",
    "| Ensures that all produced values are divisible by 10 but not by 100 | 1 | seen in the `while loop` in the repopulate method|\n",
    "| Assigns appropriate values to all elements of grid (algorithm) | 1 | I successfully assign as the `this.grid[i][j] = num;` |\n",
    "|Traverses grid in column major order (no loop header bounds errors) | 1 | The first `for loop` in the increaseingcols method is based on columns `this.grid[0]`|\n",
    "|Compares two elements in the same column of grid | 1 | I compare `this.grid[row][col] < grid[row -1][col]` query in a if loop |\n",
    "| Determines whether a single column is in increasing order (algorithm) | 1 | if the previous row in the column is smaller than the current and so forth for all rows `count ++` |\n",
    "| Counts all columns that are identified as increasing (algorithm) | 1 | as the `count` variable is in the first for loop, all columns are counted |\n",
    "| Returns calculated count of increasing columns | 1 | This is seen in the `return count;` command line |\n",
    "\n",
    "\n",
    "Total Score: 9 / 9\n",
    "\n",
    "\n"
   ]
  },
  {
   "cell_type": "markdown",
   "metadata": {},
   "source": [
    "## Takeaways\n",
    "**The Java code** effectively utilizes the `Random` class for generating random integers. The `Data` class, with its constant `MAX` set to 100, dynamically creates a 2D array based on provided parameters. Noteworthy is the `repopulate` method, where random numbers are generated, adhering to specific criteria such as divisibility by 10 and non-divisibility by 100. The `countIncreasingCols` method intelligently analyzes column order, employing nested loops for precise evaluation. Moreover, the code emphasizes the value of informed assumptions, exemplified by the `MAX` constant, streamlining complex scenarios. This approach, coupled with methodical problem analysis, lays a robust foundation for effective code development.\n",
    "\n",
    "Assumuming values can help solve these problems ans also creating tester methods and constant checking can also help solve these problems. I missed alot of \";\" which became better."
   ]
  },
  {
   "cell_type": "markdown",
   "metadata": {},
   "source": [
    "## Notes on other Students\n",
    "- Started with 2D arrays, Had some understanding with the 2D arrays\n",
    "- Copied the answer from answer\n",
    "- \n",
    "Manny\n",
    "- "
   ]
  }
 ],
 "metadata": {
  "kernelspec": {
   "display_name": "Java",
   "language": "java",
   "name": "java"
  },
  "language_info": {
   "codemirror_mode": "java",
   "file_extension": ".jshell",
   "mimetype": "text/x-java-source",
   "name": "Java",
   "pygments_lexer": "java",
   "version": "11.0.20+8-post-Ubuntu-1ubuntu122.04"
  },
  "orig_nbformat": 4
 },
 "nbformat": 4,
 "nbformat_minor": 2
}
